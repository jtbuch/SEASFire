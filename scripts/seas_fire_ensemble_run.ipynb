{
 "cells": [
  {
   "cell_type": "markdown",
   "metadata": {},
   "source": [
    "# Ensemble fire probability, frequency, and size forecasts using SEAS5\n",
    "\n",
    "Author: Jatan Buch (v1, 230830) "
   ]
  },
  {
   "cell_type": "code",
   "execution_count": 1,
   "metadata": {},
   "outputs": [
    {
     "ename": "ModuleNotFoundError",
     "evalue": "No module named 'shap'",
     "output_type": "error",
     "traceback": [
      "\u001b[0;31m---------------------------------------------------------------------------\u001b[0m",
      "\u001b[0;31mModuleNotFoundError\u001b[0m                       Traceback (most recent call last)",
      "\u001b[1;32m/Users/hyfives-lamont/Desktop/seasonal_fire_pred/scripts/seas_fire_ensemble_run.ipynb Cell 2\u001b[0m line \u001b[0;36m4\n\u001b[1;32m     <a href='vscode-notebook-cell:/Users/hyfives-lamont/Desktop/seasonal_fire_pred/scripts/seas_fire_ensemble_run.ipynb#W1sZmlsZQ%3D%3D?line=38'>39</a>\u001b[0m \u001b[39mimport\u001b[39;00m \u001b[39mpickle\u001b[39;00m \u001b[39m# for saving and loading models\u001b[39;00m\n\u001b[1;32m     <a href='vscode-notebook-cell:/Users/hyfives-lamont/Desktop/seasonal_fire_pred/scripts/seas_fire_ensemble_run.ipynb#W1sZmlsZQ%3D%3D?line=39'>40</a>\u001b[0m \u001b[39mfrom\u001b[39;00m \u001b[39mpathlib\u001b[39;00m \u001b[39mimport\u001b[39;00m Path\n\u001b[0;32m---> <a href='vscode-notebook-cell:/Users/hyfives-lamont/Desktop/seasonal_fire_pred/scripts/seas_fire_ensemble_run.ipynb#W1sZmlsZQ%3D%3D?line=40'>41</a>\u001b[0m \u001b[39mimport\u001b[39;00m \u001b[39mshap\u001b[39;00m\n\u001b[1;32m     <a href='vscode-notebook-cell:/Users/hyfives-lamont/Desktop/seasonal_fire_pred/scripts/seas_fire_ensemble_run.ipynb#W1sZmlsZQ%3D%3D?line=42'>43</a>\u001b[0m \u001b[39m#modules for neural network\u001b[39;00m\n\u001b[1;32m     <a href='vscode-notebook-cell:/Users/hyfives-lamont/Desktop/seasonal_fire_pred/scripts/seas_fire_ensemble_run.ipynb#W1sZmlsZQ%3D%3D?line=43'>44</a>\u001b[0m \u001b[39mimport\u001b[39;00m \u001b[39mtensorflow\u001b[39;00m \u001b[39mas\u001b[39;00m \u001b[39mtf\u001b[39;00m\n",
      "\u001b[0;31mModuleNotFoundError\u001b[0m: No module named 'shap'"
     ]
    }
   ],
   "source": [
    "import warnings\n",
    "warnings.filterwarnings('ignore')\n",
    "\n",
    "import numpy as np\n",
    "import random\n",
    "from numpy.lib.stride_tricks import sliding_window_view\n",
    "from scipy import stats, interpolate\n",
    "from scipy.optimize import minimize\n",
    "from scipy.special import gamma\n",
    "from sklearn.linear_model import LinearRegression\n",
    "from math import factorial\n",
    "import itertools\n",
    "from copy import deepcopy\n",
    "\n",
    "import netCDF4 # module that reads in .nc files (built on top of HDF5 format)\n",
    "import pandas as pd\n",
    "import geopandas as gpd\n",
    "from geopandas.tools import sjoin\n",
    "import xarray\n",
    "import rioxarray\n",
    "\n",
    "from shapely.geometry import Point, mapping\n",
    "from shapely.geometry.polygon import Polygon\n",
    "from pyproj import CRS, Transformer # for transforming projected coordinates to elliptical coordinates\n",
    "import cartopy.crs as ccrs # for defining and transforming coordinate systems\n",
    "import cartopy.feature as cfeature # to add features to a cartopy map\n",
    "import cartopy.io.shapereader as shpreader\n",
    "\n",
    "#self-libraries\n",
    "from fire_utils import *\n",
    "from ml_utils import *\n",
    "from ssf_utils import *\n",
    "\n",
    "#modules for data processing and gradient boosting \n",
    "from ngboost import NGBRegressor, distns\n",
    "from sklearn.model_selection import train_test_split\n",
    "from sklearn.preprocessing import StandardScaler, MinMaxScaler, PolynomialFeatures, SplineTransformer\n",
    "from sklearn.metrics import mean_squared_error, r2_score\n",
    "import pickle # for saving and loading models\n",
    "from pathlib import Path\n",
    "import shap\n",
    "\n",
    "#modules for neural network\n",
    "import tensorflow as tf\n",
    "import tensorflow_probability as tfp\n",
    "tfd= tfp.distributions\n",
    "\n",
    "from datetime import datetime, timedelta\n",
    "from cftime import num2date, date2num, DatetimeGregorian\n",
    "from tqdm import tqdm\n",
    "\n",
    "import matplotlib.pyplot as plt\n",
    "import matplotlib.colors as colors\n",
    "from matplotlib.patches import Rectangle\n",
    "import matplotlib.patches as patches\n",
    "import matplotlib.path as mpltPath\n",
    "from plot_params_mpl39 import params\n",
    "import matplotlib.pylab as pylab\n",
    "import seaborn as sns\n",
    "pylab.rcParams.update(params)\n",
    "cols_default = plt.rcParams['axes.prop_cycle'].by_key()['color']\n",
    "\n",
    "%matplotlib inline\n",
    "%config IPython.matplotlib.backend = 'retina'\n",
    "%config InlineBackend.figure_format = 'retina'"
   ]
  },
  {
   "cell_type": "markdown",
   "metadata": {},
   "source": [
    "## Generating output files"
   ]
  },
  {
   "cell_type": "code",
   "execution_count": 3,
   "metadata": {},
   "outputs": [
    {
     "name": "stderr",
     "output_type": "stream",
     "text": [
      "100%|██████████| 18721/18721 [00:06<00:00, 3013.92it/s]\n",
      "100%|██████████| 985/985 [00:00<00:00, 1334.45it/s]\n",
      "  0%|          | 0/9 [00:00<?, ?it/s]"
     ]
    },
    {
     "name": "stdout",
     "output_type": "stream",
     "text": [
      "19/19 [==============================] - 0s 532us/step\n",
      "19/19 [==============================] - 0s 419us/step\n",
      "19/19 [==============================] - 0s 392us/step\n",
      "19/19 [==============================] - 0s 383us/step\n"
     ]
    },
    {
     "name": "stderr",
     "output_type": "stream",
     "text": []
    },
    {
     "name": "stdout",
     "output_type": "stream",
     "text": [
      "10/10 [==============================] - 0s 478us/step\n",
      "10/10 [==============================] - 0s 425us/step\n",
      "10/10 [==============================] - 0s 424us/step\n",
      "10/10 [==============================] - 0s 425us/step\n"
     ]
    },
    {
     "name": "stderr",
     "output_type": "stream",
     "text": []
    },
    {
     "name": "stdout",
     "output_type": "stream",
     "text": [
      "17/17 [==============================] - 0s 350us/step\n",
      "17/17 [==============================] - 0s 379us/step\n",
      "17/17 [==============================] - 0s 357us/step\n",
      "17/17 [==============================] - 0s 352us/step\n"
     ]
    },
    {
     "name": "stderr",
     "output_type": "stream",
     "text": []
    },
    {
     "name": "stdout",
     "output_type": "stream",
     "text": [
      "8/8 [==============================] - 0s 471us/step\n",
      "8/8 [==============================] - 0s 467us/step\n",
      "8/8 [==============================] - 0s 414us/step\n",
      "8/8 [==============================] - 0s 416us/step\n"
     ]
    },
    {
     "name": "stderr",
     "output_type": "stream",
     "text": []
    },
    {
     "name": "stdout",
     "output_type": "stream",
     "text": [
      "37/37 [==============================] - 0s 311us/step\n",
      "37/37 [==============================] - 0s 332us/step\n",
      "37/37 [==============================] - 0s 310us/step\n",
      "37/37 [==============================] - 0s 326us/step\n"
     ]
    },
    {
     "name": "stderr",
     "output_type": "stream",
     "text": []
    },
    {
     "name": "stdout",
     "output_type": "stream",
     "text": [
      "19/19 [==============================] - 0s 402us/step\n",
      "19/19 [==============================] - 0s 414us/step\n",
      "19/19 [==============================] - 0s 388us/step\n",
      "19/19 [==============================] - 0s 375us/step\n"
     ]
    },
    {
     "name": "stderr",
     "output_type": "stream",
     "text": []
    },
    {
     "name": "stdout",
     "output_type": "stream",
     "text": [
      "22/22 [==============================] - 0s 324us/step\n",
      "22/22 [==============================] - 0s 343us/step\n",
      "22/22 [==============================] - 0s 376us/step\n",
      "22/22 [==============================] - 0s 339us/step\n"
     ]
    },
    {
     "name": "stderr",
     "output_type": "stream",
     "text": []
    },
    {
     "name": "stdout",
     "output_type": "stream",
     "text": [
      "65/65 [==============================] - 0s 339us/step\n",
      "65/65 [==============================] - 0s 331us/step\n",
      "65/65 [==============================] - 0s 319us/step\n",
      "65/65 [==============================] - 0s 311us/step\n"
     ]
    },
    {
     "name": "stderr",
     "output_type": "stream",
     "text": []
    },
    {
     "name": "stdout",
     "output_type": "stream",
     "text": [
      "42/42 [==============================] - 0s 310us/step\n",
      "42/42 [==============================] - 0s 323us/step\n",
      "42/42 [==============================] - 0s 321us/step\n",
      "42/42 [==============================] - 0s 332us/step\n"
     ]
    },
    {
     "name": "stderr",
     "output_type": "stream",
     "text": []
    },
    {
     "name": "stdout",
     "output_type": "stream",
     "text": [
      "54/54 [==============================] - 0s 344us/step\n",
      "54/54 [==============================] - 0s 325us/step\n",
      "54/54 [==============================] - 0s 323us/step\n",
      "54/54 [==============================] - 0s 350us/step\n"
     ]
    },
    {
     "name": "stderr",
     "output_type": "stream",
     "text": []
    },
    {
     "name": "stdout",
     "output_type": "stream",
     "text": [
      "33/33 [==============================] - 0s 327us/step\n",
      "33/33 [==============================] - 0s 341us/step\n",
      "33/33 [==============================] - 0s 328us/step\n",
      "33/33 [==============================] - 0s 335us/step\n"
     ]
    },
    {
     "name": "stderr",
     "output_type": "stream",
     "text": []
    },
    {
     "name": "stdout",
     "output_type": "stream",
     "text": [
      "71/71 [==============================] - 0s 326us/step\n",
      "71/71 [==============================] - 0s 314us/step\n",
      "71/71 [==============================] - 0s 319us/step\n",
      "71/71 [==============================] - 0s 315us/step\n"
     ]
    },
    {
     "name": "stderr",
     "output_type": "stream",
     "text": []
    },
    {
     "name": "stdout",
     "output_type": "stream",
     "text": [
      "68/68 [==============================] - 0s 330us/step\n",
      "68/68 [==============================] - 0s 319us/step\n",
      "68/68 [==============================] - 0s 304us/step\n",
      "68/68 [==============================] - 0s 315us/step\n"
     ]
    },
    {
     "name": "stderr",
     "output_type": "stream",
     "text": []
    },
    {
     "name": "stdout",
     "output_type": "stream",
     "text": [
      "65/65 [==============================] - 0s 420us/step\n",
      "65/65 [==============================] - 0s 322us/step\n",
      "65/65 [==============================] - 0s 315us/step\n",
      "65/65 [==============================] - 0s 317us/step\n"
     ]
    },
    {
     "name": "stderr",
     "output_type": "stream",
     "text": []
    },
    {
     "name": "stdout",
     "output_type": "stream",
     "text": [
      "51/51 [==============================] - 0s 342us/step\n",
      "51/51 [==============================] - 0s 322us/step\n",
      "51/51 [==============================] - 0s 337us/step\n",
      "51/51 [==============================] - 0s 326us/step\n"
     ]
    },
    {
     "name": "stderr",
     "output_type": "stream",
     "text": []
    },
    {
     "name": "stdout",
     "output_type": "stream",
     "text": [
      "62/62 [==============================] - 0s 299us/step\n",
      "62/62 [==============================] - 0s 321us/step\n",
      "62/62 [==============================] - 0s 322us/step\n",
      "62/62 [==============================] - 0s 318us/step\n"
     ]
    },
    {
     "name": "stderr",
     "output_type": "stream",
     "text": []
    },
    {
     "name": "stdout",
     "output_type": "stream",
     "text": [
      "29/29 [==============================] - 0s 334us/step\n",
      "29/29 [==============================] - 0s 334us/step\n",
      "29/29 [==============================] - 0s 327us/step\n",
      "29/29 [==============================] - 0s 338us/step\n"
     ]
    },
    {
     "name": "stderr",
     "output_type": "stream",
     "text": []
    },
    {
     "name": "stdout",
     "output_type": "stream",
     "text": [
      "36/36 [==============================] - 0s 350us/step\n",
      "36/36 [==============================] - 0s 307us/step\n",
      "36/36 [==============================] - 0s 321us/step\n",
      "36/36 [==============================] - 0s 344us/step\n"
     ]
    },
    {
     "name": "stderr",
     "output_type": "stream",
     "text": [
      "100%|██████████| 18/18 [00:05<00:00,  3.31it/s]\n",
      "100%|██████████| 18/18 [00:00<00:00, 732.46it/s]\n"
     ]
    },
    {
     "name": "stdout",
     "output_type": "stream",
     "text": [
      "19/19 [==============================] - 0s 414us/step\n",
      "19/19 [==============================] - 0s 361us/step\n",
      "19/19 [==============================] - 0s 364us/step\n",
      "19/19 [==============================] - 0s 353us/step\n"
     ]
    },
    {
     "name": "stderr",
     "output_type": "stream",
     "text": []
    },
    {
     "name": "stdout",
     "output_type": "stream",
     "text": [
      "10/10 [==============================] - 0s 431us/step\n",
      "10/10 [==============================] - 0s 452us/step\n",
      "10/10 [==============================] - 0s 491us/step\n",
      "10/10 [==============================] - 0s 432us/step\n"
     ]
    },
    {
     "name": "stderr",
     "output_type": "stream",
     "text": []
    },
    {
     "name": "stdout",
     "output_type": "stream",
     "text": [
      "17/17 [==============================] - 0s 407us/step\n",
      "17/17 [==============================] - 0s 391us/step\n",
      "17/17 [==============================] - 0s 382us/step\n",
      "17/17 [==============================] - 0s 390us/step\n"
     ]
    },
    {
     "name": "stderr",
     "output_type": "stream",
     "text": []
    },
    {
     "name": "stdout",
     "output_type": "stream",
     "text": [
      "8/8 [==============================] - 0s 505us/step\n",
      "8/8 [==============================] - 0s 738us/step\n",
      "8/8 [==============================] - 0s 445us/step\n",
      "8/8 [==============================] - 0s 436us/step\n"
     ]
    },
    {
     "name": "stderr",
     "output_type": "stream",
     "text": []
    },
    {
     "name": "stdout",
     "output_type": "stream",
     "text": [
      "37/37 [==============================] - 0s 332us/step\n",
      "37/37 [==============================] - 0s 323us/step\n",
      "37/37 [==============================] - 0s 320us/step\n",
      "37/37 [==============================] - 0s 319us/step\n"
     ]
    },
    {
     "name": "stderr",
     "output_type": "stream",
     "text": []
    },
    {
     "name": "stdout",
     "output_type": "stream",
     "text": [
      "19/19 [==============================] - 0s 352us/step\n",
      "19/19 [==============================] - 0s 357us/step\n",
      "19/19 [==============================] - 0s 356us/step\n",
      "19/19 [==============================] - 0s 366us/step\n"
     ]
    },
    {
     "name": "stderr",
     "output_type": "stream",
     "text": []
    },
    {
     "name": "stdout",
     "output_type": "stream",
     "text": [
      "22/22 [==============================] - 0s 367us/step\n",
      "22/22 [==============================] - 0s 361us/step\n",
      "22/22 [==============================] - 0s 365us/step\n",
      "22/22 [==============================] - 0s 345us/step\n"
     ]
    },
    {
     "name": "stderr",
     "output_type": "stream",
     "text": []
    },
    {
     "name": "stdout",
     "output_type": "stream",
     "text": [
      "65/65 [==============================] - 0s 329us/step\n",
      "65/65 [==============================] - 0s 335us/step\n",
      "65/65 [==============================] - 0s 316us/step\n",
      "65/65 [==============================] - 0s 310us/step\n"
     ]
    },
    {
     "name": "stderr",
     "output_type": "stream",
     "text": []
    },
    {
     "name": "stdout",
     "output_type": "stream",
     "text": [
      "42/42 [==============================] - 0s 313us/step\n",
      "42/42 [==============================] - 0s 310us/step\n",
      "42/42 [==============================] - 0s 325us/step\n",
      "42/42 [==============================] - 0s 334us/step\n"
     ]
    },
    {
     "name": "stderr",
     "output_type": "stream",
     "text": []
    },
    {
     "name": "stdout",
     "output_type": "stream",
     "text": [
      "54/54 [==============================] - 0s 339us/step\n",
      "54/54 [==============================] - 0s 324us/step\n",
      "54/54 [==============================] - 0s 320us/step\n",
      "54/54 [==============================] - 0s 332us/step\n"
     ]
    },
    {
     "name": "stderr",
     "output_type": "stream",
     "text": []
    },
    {
     "name": "stdout",
     "output_type": "stream",
     "text": [
      "33/33 [==============================] - 0s 341us/step\n",
      "33/33 [==============================] - 0s 334us/step\n",
      "33/33 [==============================] - 0s 351us/step\n",
      "33/33 [==============================] - 0s 337us/step\n"
     ]
    },
    {
     "name": "stderr",
     "output_type": "stream",
     "text": []
    },
    {
     "name": "stdout",
     "output_type": "stream",
     "text": [
      "71/71 [==============================] - 0s 333us/step\n",
      "71/71 [==============================] - 0s 311us/step\n",
      "71/71 [==============================] - 0s 325us/step\n",
      "71/71 [==============================] - 0s 315us/step\n"
     ]
    },
    {
     "name": "stderr",
     "output_type": "stream",
     "text": []
    },
    {
     "name": "stdout",
     "output_type": "stream",
     "text": [
      "68/68 [==============================] - 0s 459us/step\n",
      "68/68 [==============================] - 0s 318us/step\n",
      "68/68 [==============================] - 0s 315us/step\n",
      "68/68 [==============================] - 0s 325us/step\n"
     ]
    },
    {
     "name": "stderr",
     "output_type": "stream",
     "text": []
    },
    {
     "name": "stdout",
     "output_type": "stream",
     "text": [
      "65/65 [==============================] - 0s 333us/step\n",
      "65/65 [==============================] - 0s 323us/step\n",
      "65/65 [==============================] - 0s 318us/step\n",
      "65/65 [==============================] - 0s 313us/step\n"
     ]
    },
    {
     "name": "stderr",
     "output_type": "stream",
     "text": []
    },
    {
     "name": "stdout",
     "output_type": "stream",
     "text": [
      "51/51 [==============================] - 0s 331us/step\n",
      "51/51 [==============================] - 0s 328us/step\n",
      "51/51 [==============================] - 0s 323us/step\n",
      "51/51 [==============================] - 0s 327us/step\n"
     ]
    },
    {
     "name": "stderr",
     "output_type": "stream",
     "text": []
    },
    {
     "name": "stdout",
     "output_type": "stream",
     "text": [
      "62/62 [==============================] - 0s 328us/step\n",
      "62/62 [==============================] - 0s 325us/step\n",
      "62/62 [==============================] - 0s 324us/step\n",
      "62/62 [==============================] - 0s 324us/step\n"
     ]
    },
    {
     "name": "stderr",
     "output_type": "stream",
     "text": []
    },
    {
     "name": "stdout",
     "output_type": "stream",
     "text": [
      "29/29 [==============================] - 0s 348us/step\n",
      "29/29 [==============================] - 0s 340us/step\n",
      "29/29 [==============================] - 0s 352us/step\n",
      "29/29 [==============================] - 0s 351us/step\n"
     ]
    },
    {
     "name": "stderr",
     "output_type": "stream",
     "text": []
    },
    {
     "name": "stdout",
     "output_type": "stream",
     "text": [
      "36/36 [==============================] - 0s 374us/step\n",
      "36/36 [==============================] - 0s 327us/step\n",
      "36/36 [==============================] - 0s 326us/step\n",
      "36/36 [==============================] - 0s 330us/step\n"
     ]
    },
    {
     "name": "stderr",
     "output_type": "stream",
     "text": [
      "100%|██████████| 18/18 [00:05<00:00,  3.58it/s]\n",
      "100%|██████████| 18/18 [00:00<00:00, 238.79it/s]\n",
      "100%|██████████| 18/18 [00:00<00:00, 251.12it/s]\n"
     ]
    },
    {
     "name": "stdout",
     "output_type": "stream",
     "text": [
      "747/747 [==============================] - 0s 299us/step\n",
      "747/747 [==============================] - 0s 298us/step\n",
      "747/747 [==============================] - 0s 294us/step\n",
      "747/747 [==============================] - 0s 300us/step\n",
      "Saved fire probability xarray for 2023\n"
     ]
    },
    {
     "name": "stderr",
     "output_type": "stream",
     "text": []
    },
    {
     "name": "stdout",
     "output_type": "stream",
     "text": [
      "1/1 [==============================] - 0s 40ms/step\n",
      "1/1 [==============================] - 0s 10ms/step\n",
      "1/1 [==============================] - 0s 10ms/step\n",
      "1/1 [==============================] - 0s 11ms/step\n"
     ]
    },
    {
     "name": "stderr",
     "output_type": "stream",
     "text": []
    },
    {
     "name": "stdout",
     "output_type": "stream",
     "text": [
      "1/1 [==============================] - 0s 10ms/step\n",
      "1/1 [==============================] - 0s 10ms/step\n",
      "1/1 [==============================] - 0s 10ms/step\n",
      "1/1 [==============================] - 0s 11ms/step\n",
      "1/1 [==============================] - 0s 9ms/step\n",
      "1/1 [==============================] - 0s 9ms/step\n"
     ]
    },
    {
     "name": "stderr",
     "output_type": "stream",
     "text": []
    },
    {
     "name": "stdout",
     "output_type": "stream",
     "text": [
      "1/1 [==============================] - 0s 10ms/step\n",
      "1/1 [==============================] - 0s 9ms/step\n",
      "1/1 [==============================] - 0s 10ms/step\n",
      "1/1 [==============================] - 0s 10ms/step\n"
     ]
    },
    {
     "name": "stderr",
     "output_type": "stream",
     "text": []
    },
    {
     "name": "stdout",
     "output_type": "stream",
     "text": [
      "1/1 [==============================] - 0s 10ms/step\n",
      "1/1 [==============================] - 0s 11ms/step\n",
      "1/1 [==============================] - 0s 10ms/step\n",
      "1/1 [==============================] - 0s 9ms/step\n"
     ]
    },
    {
     "name": "stderr",
     "output_type": "stream",
     "text": []
    },
    {
     "name": "stdout",
     "output_type": "stream",
     "text": [
      "1/1 [==============================] - 0s 17ms/step\n",
      "1/1 [==============================] - 0s 10ms/step\n",
      "1/1 [==============================] - 0s 10ms/step\n",
      "1/1 [==============================] - 0s 10ms/step\n"
     ]
    },
    {
     "name": "stderr",
     "output_type": "stream",
     "text": []
    },
    {
     "name": "stdout",
     "output_type": "stream",
     "text": [
      "1/1 [==============================] - 0s 10ms/step\n",
      "1/1 [==============================] - 0s 10ms/step\n",
      "1/1 [==============================] - 0s 11ms/step\n",
      "1/1 [==============================] - 0s 10ms/step\n",
      "1/1 [==============================] - 0s 9ms/step\n",
      "1/1 [==============================] - 0s 9ms/step\n",
      "1/1 [==============================] - 0s 10ms/step\n",
      "1/1 [==============================] - 0s 11ms/step\n"
     ]
    },
    {
     "name": "stderr",
     "output_type": "stream",
     "text": []
    },
    {
     "name": "stdout",
     "output_type": "stream",
     "text": [
      "1/1 [==============================] - 0s 10ms/step\n",
      "1/1 [==============================] - 0s 10ms/step\n",
      "1/1 [==============================] - 0s 10ms/step\n",
      "1/1 [==============================] - 0s 9ms/step\n",
      "1/1 [==============================] - 0s 9ms/step\n",
      "1/1 [==============================] - 0s 9ms/step\n"
     ]
    },
    {
     "name": "stderr",
     "output_type": "stream",
     "text": []
    },
    {
     "name": "stdout",
     "output_type": "stream",
     "text": [
      "1/1 [==============================] - 0s 9ms/step\n",
      "1/1 [==============================] - 0s 10ms/step\n",
      "1/1 [==============================] - 0s 10ms/step\n",
      "1/1 [==============================] - 0s 10ms/step\n",
      "1/1 [==============================] - 0s 9ms/step\n",
      "1/1 [==============================] - 0s 10ms/step\n",
      "1/1 [==============================] - 0s 9ms/step\n"
     ]
    },
    {
     "name": "stderr",
     "output_type": "stream",
     "text": []
    },
    {
     "name": "stdout",
     "output_type": "stream",
     "text": [
      "1/1 [==============================] - 0s 14ms/step\n",
      "1/1 [==============================] - 0s 9ms/step\n"
     ]
    },
    {
     "name": "stderr",
     "output_type": "stream",
     "text": [
      "100%|██████████| 18/18 [00:01<00:00, 12.06it/s]\n"
     ]
    },
    {
     "name": "stdout",
     "output_type": "stream",
     "text": [
      "1/1 [==============================] - 0s 37ms/step\n",
      "1/1 [==============================] - 0s 10ms/step\n",
      "1/1 [==============================] - 0s 10ms/step\n",
      "1/1 [==============================] - 0s 9ms/step\n"
     ]
    },
    {
     "name": "stderr",
     "output_type": "stream",
     "text": []
    },
    {
     "name": "stdout",
     "output_type": "stream",
     "text": [
      "1/1 [==============================] - 0s 9ms/step\n",
      "1/1 [==============================] - 0s 10ms/step\n",
      "1/1 [==============================] - 0s 10ms/step\n",
      "1/1 [==============================] - 0s 10ms/step\n",
      "1/1 [==============================] - 0s 10ms/step\n",
      "1/1 [==============================] - 0s 9ms/step\n"
     ]
    },
    {
     "name": "stderr",
     "output_type": "stream",
     "text": []
    },
    {
     "name": "stdout",
     "output_type": "stream",
     "text": [
      "1/1 [==============================] - 0s 9ms/step\n",
      "1/1 [==============================] - 0s 9ms/step\n",
      "1/1 [==============================] - 0s 10ms/step\n",
      "1/1 [==============================] - 0s 10ms/step\n"
     ]
    },
    {
     "name": "stderr",
     "output_type": "stream",
     "text": []
    },
    {
     "name": "stdout",
     "output_type": "stream",
     "text": [
      "1/1 [==============================] - 0s 10ms/step\n",
      "1/1 [==============================] - 0s 11ms/step\n",
      "1/1 [==============================] - 0s 10ms/step\n",
      "1/1 [==============================] - 0s 9ms/step\n"
     ]
    },
    {
     "name": "stderr",
     "output_type": "stream",
     "text": []
    },
    {
     "name": "stdout",
     "output_type": "stream",
     "text": [
      "1/1 [==============================] - 0s 23ms/step\n",
      "1/1 [==============================] - 0s 10ms/step\n",
      "1/1 [==============================] - 0s 9ms/step\n",
      "1/1 [==============================] - 0s 10ms/step\n"
     ]
    },
    {
     "name": "stderr",
     "output_type": "stream",
     "text": []
    },
    {
     "name": "stdout",
     "output_type": "stream",
     "text": [
      "1/1 [==============================] - 0s 9ms/step\n",
      "1/1 [==============================] - 0s 9ms/step\n",
      "1/1 [==============================] - 0s 9ms/step\n",
      "1/1 [==============================] - 0s 10ms/step\n",
      "1/1 [==============================] - 0s 10ms/step\n",
      "1/1 [==============================] - 0s 10ms/step\n",
      "1/1 [==============================] - 0s 10ms/step\n",
      "1/1 [==============================] - 0s 9ms/step\n"
     ]
    },
    {
     "name": "stderr",
     "output_type": "stream",
     "text": []
    },
    {
     "name": "stdout",
     "output_type": "stream",
     "text": [
      "1/1 [==============================] - 0s 9ms/step\n",
      "1/1 [==============================] - 0s 9ms/step\n",
      "1/1 [==============================] - 0s 9ms/step\n",
      "1/1 [==============================] - 0s 10ms/step\n",
      "1/1 [==============================] - 0s 10ms/step\n",
      "1/1 [==============================] - 0s 10ms/step\n"
     ]
    },
    {
     "name": "stderr",
     "output_type": "stream",
     "text": []
    },
    {
     "name": "stdout",
     "output_type": "stream",
     "text": [
      "1/1 [==============================] - 0s 10ms/step\n",
      "1/1 [==============================] - 0s 9ms/step\n",
      "1/1 [==============================] - 0s 9ms/step\n",
      "1/1 [==============================] - 0s 9ms/step\n",
      "1/1 [==============================] - 0s 10ms/step\n",
      "1/1 [==============================] - 0s 10ms/step\n",
      "1/1 [==============================] - 0s 10ms/step\n"
     ]
    },
    {
     "name": "stderr",
     "output_type": "stream",
     "text": []
    },
    {
     "name": "stdout",
     "output_type": "stream",
     "text": [
      "1/1 [==============================] - 0s 10ms/step\n",
      "1/1 [==============================] - 0s 15ms/step\n"
     ]
    },
    {
     "name": "stderr",
     "output_type": "stream",
     "text": [
      "100%|██████████| 18/18 [00:01<00:00, 12.23it/s]\n",
      " 11%|█         | 1/9 [01:47<14:23, 107.91s/it]"
     ]
    },
    {
     "name": "stdout",
     "output_type": "stream",
     "text": [
      "19/19 [==============================] - 0s 383us/step\n",
      "19/19 [==============================] - 0s 365us/step\n",
      "19/19 [==============================] - 0s 383us/step\n",
      "19/19 [==============================] - 0s 373us/step\n"
     ]
    },
    {
     "name": "stderr",
     "output_type": "stream",
     "text": []
    },
    {
     "name": "stdout",
     "output_type": "stream",
     "text": [
      "10/10 [==============================] - 0s 487us/step\n",
      "10/10 [==============================] - 0s 440us/step\n",
      "10/10 [==============================] - 0s 495us/step\n",
      "10/10 [==============================] - 0s 446us/step\n"
     ]
    },
    {
     "name": "stderr",
     "output_type": "stream",
     "text": []
    },
    {
     "name": "stdout",
     "output_type": "stream",
     "text": [
      "17/17 [==============================] - 0s 400us/step\n",
      "17/17 [==============================] - 0s 370us/step\n",
      "17/17 [==============================] - 0s 413us/step\n",
      "17/17 [==============================] - 0s 399us/step\n"
     ]
    },
    {
     "name": "stderr",
     "output_type": "stream",
     "text": []
    },
    {
     "name": "stdout",
     "output_type": "stream",
     "text": [
      "8/8 [==============================] - 0s 550us/step\n",
      "8/8 [==============================] - 0s 438us/step\n",
      "8/8 [==============================] - 0s 445us/step\n",
      "8/8 [==============================] - 0s 462us/step\n"
     ]
    },
    {
     "name": "stderr",
     "output_type": "stream",
     "text": []
    },
    {
     "name": "stdout",
     "output_type": "stream",
     "text": [
      "37/37 [==============================] - 0s 343us/step\n",
      "37/37 [==============================] - 0s 331us/step\n",
      "37/37 [==============================] - 0s 329us/step\n",
      "37/37 [==============================] - 0s 330us/step\n"
     ]
    },
    {
     "name": "stderr",
     "output_type": "stream",
     "text": []
    },
    {
     "name": "stdout",
     "output_type": "stream",
     "text": [
      "19/19 [==============================] - 0s 398us/step\n",
      "19/19 [==============================] - 0s 388us/step\n",
      "19/19 [==============================] - 0s 401us/step\n",
      "19/19 [==============================] - 0s 361us/step\n"
     ]
    },
    {
     "name": "stderr",
     "output_type": "stream",
     "text": []
    },
    {
     "name": "stdout",
     "output_type": "stream",
     "text": [
      "22/22 [==============================] - 0s 388us/step\n",
      "22/22 [==============================] - 0s 352us/step\n",
      "22/22 [==============================] - 0s 363us/step\n",
      "22/22 [==============================] - 0s 349us/step\n"
     ]
    },
    {
     "name": "stderr",
     "output_type": "stream",
     "text": []
    },
    {
     "name": "stdout",
     "output_type": "stream",
     "text": [
      "65/65 [==============================] - 0s 339us/step\n",
      "65/65 [==============================] - 0s 318us/step\n",
      "65/65 [==============================] - 0s 335us/step\n",
      "65/65 [==============================] - 0s 319us/step\n"
     ]
    },
    {
     "name": "stderr",
     "output_type": "stream",
     "text": []
    },
    {
     "name": "stdout",
     "output_type": "stream",
     "text": [
      "42/42 [==============================] - 0s 830us/step\n",
      "42/42 [==============================] - 0s 347us/step\n",
      "42/42 [==============================] - 0s 324us/step\n",
      "42/42 [==============================] - 0s 325us/step\n"
     ]
    },
    {
     "name": "stderr",
     "output_type": "stream",
     "text": []
    },
    {
     "name": "stdout",
     "output_type": "stream",
     "text": [
      "54/54 [==============================] - 0s 338us/step\n",
      "54/54 [==============================] - 0s 323us/step\n",
      "54/54 [==============================] - 0s 323us/step\n",
      "54/54 [==============================] - 0s 328us/step\n"
     ]
    },
    {
     "name": "stderr",
     "output_type": "stream",
     "text": []
    },
    {
     "name": "stdout",
     "output_type": "stream",
     "text": [
      "33/33 [==============================] - 0s 333us/step\n",
      "33/33 [==============================] - 0s 324us/step\n",
      "33/33 [==============================] - 0s 389us/step\n",
      "33/33 [==============================] - 0s 332us/step\n"
     ]
    },
    {
     "name": "stderr",
     "output_type": "stream",
     "text": []
    },
    {
     "name": "stdout",
     "output_type": "stream",
     "text": [
      "71/71 [==============================] - 0s 328us/step\n",
      "71/71 [==============================] - 0s 319us/step\n",
      "71/71 [==============================] - 0s 341us/step\n",
      "71/71 [==============================] - 0s 324us/step\n"
     ]
    },
    {
     "name": "stderr",
     "output_type": "stream",
     "text": []
    },
    {
     "name": "stdout",
     "output_type": "stream",
     "text": [
      "68/68 [==============================] - 0s 660us/step\n",
      "68/68 [==============================] - 0s 331us/step\n",
      "68/68 [==============================] - 0s 313us/step\n",
      "68/68 [==============================] - 0s 340us/step\n"
     ]
    },
    {
     "name": "stderr",
     "output_type": "stream",
     "text": []
    },
    {
     "name": "stdout",
     "output_type": "stream",
     "text": [
      "65/65 [==============================] - 0s 361us/step\n",
      "65/65 [==============================] - 0s 316us/step\n",
      "65/65 [==============================] - 0s 331us/step\n",
      "65/65 [==============================] - 0s 318us/step\n"
     ]
    },
    {
     "name": "stderr",
     "output_type": "stream",
     "text": []
    },
    {
     "name": "stdout",
     "output_type": "stream",
     "text": [
      "51/51 [==============================] - 0s 337us/step\n",
      "51/51 [==============================] - 0s 324us/step\n",
      "51/51 [==============================] - 0s 322us/step\n",
      "51/51 [==============================] - 0s 327us/step\n"
     ]
    },
    {
     "name": "stderr",
     "output_type": "stream",
     "text": []
    },
    {
     "name": "stdout",
     "output_type": "stream",
     "text": [
      "62/62 [==============================] - 0s 348us/step\n",
      "62/62 [==============================] - 0s 347us/step\n",
      "62/62 [==============================] - 0s 323us/step\n",
      "62/62 [==============================] - 0s 326us/step\n"
     ]
    },
    {
     "name": "stderr",
     "output_type": "stream",
     "text": []
    },
    {
     "name": "stdout",
     "output_type": "stream",
     "text": [
      "29/29 [==============================] - 0s 335us/step\n",
      "29/29 [==============================] - 0s 362us/step\n",
      "29/29 [==============================] - 0s 347us/step\n",
      "29/29 [==============================] - 0s 336us/step\n"
     ]
    },
    {
     "name": "stderr",
     "output_type": "stream",
     "text": []
    },
    {
     "name": "stdout",
     "output_type": "stream",
     "text": [
      "36/36 [==============================] - 0s 367us/step\n",
      "36/36 [==============================] - 0s 344us/step\n",
      "36/36 [==============================] - 0s 332us/step\n",
      "36/36 [==============================] - 0s 330us/step\n"
     ]
    },
    {
     "name": "stderr",
     "output_type": "stream",
     "text": [
      "100%|██████████| 18/18 [00:05<00:00,  3.54it/s]\n",
      "100%|██████████| 18/18 [00:00<00:00, 859.71it/s]\n"
     ]
    },
    {
     "name": "stdout",
     "output_type": "stream",
     "text": [
      "19/19 [==============================] - 0s 377us/step\n",
      "19/19 [==============================] - 0s 358us/step\n",
      "19/19 [==============================] - 0s 374us/step\n",
      "19/19 [==============================] - 0s 357us/step\n"
     ]
    },
    {
     "name": "stderr",
     "output_type": "stream",
     "text": []
    },
    {
     "name": "stdout",
     "output_type": "stream",
     "text": [
      "10/10 [==============================] - 0s 446us/step\n",
      "10/10 [==============================] - 0s 486us/step\n",
      "10/10 [==============================] - 0s 516us/step\n",
      "10/10 [==============================] - 0s 440us/step\n"
     ]
    },
    {
     "name": "stderr",
     "output_type": "stream",
     "text": []
    },
    {
     "name": "stdout",
     "output_type": "stream",
     "text": [
      "17/17 [==============================] - 0s 369us/step\n",
      "17/17 [==============================] - 0s 816us/step\n",
      "17/17 [==============================] - 0s 394us/step\n",
      "17/17 [==============================] - 0s 370us/step\n"
     ]
    },
    {
     "name": "stderr",
     "output_type": "stream",
     "text": []
    },
    {
     "name": "stdout",
     "output_type": "stream",
     "text": [
      "8/8 [==============================] - 0s 445us/step\n",
      "8/8 [==============================] - 0s 468us/step\n",
      "8/8 [==============================] - 0s 496us/step\n",
      "8/8 [==============================] - 0s 538us/step\n"
     ]
    },
    {
     "name": "stderr",
     "output_type": "stream",
     "text": []
    },
    {
     "name": "stdout",
     "output_type": "stream",
     "text": [
      "37/37 [==============================] - 0s 352us/step\n",
      "37/37 [==============================] - 0s 336us/step\n",
      "37/37 [==============================] - 0s 327us/step\n",
      "37/37 [==============================] - 0s 329us/step\n"
     ]
    },
    {
     "name": "stderr",
     "output_type": "stream",
     "text": []
    },
    {
     "name": "stdout",
     "output_type": "stream",
     "text": [
      "19/19 [==============================] - 0s 393us/step\n",
      "19/19 [==============================] - 0s 357us/step\n",
      "19/19 [==============================] - 0s 347us/step\n",
      "19/19 [==============================] - 0s 363us/step\n"
     ]
    },
    {
     "name": "stderr",
     "output_type": "stream",
     "text": []
    },
    {
     "name": "stdout",
     "output_type": "stream",
     "text": [
      "22/22 [==============================] - 0s 386us/step\n",
      "22/22 [==============================] - 0s 354us/step\n",
      "22/22 [==============================] - 0s 340us/step\n",
      "22/22 [==============================] - 0s 343us/step\n"
     ]
    },
    {
     "name": "stderr",
     "output_type": "stream",
     "text": []
    },
    {
     "name": "stdout",
     "output_type": "stream",
     "text": [
      "65/65 [==============================] - 0s 346us/step\n",
      "65/65 [==============================] - 0s 316us/step\n",
      "65/65 [==============================] - 0s 314us/step\n",
      "65/65 [==============================] - 0s 320us/step\n"
     ]
    },
    {
     "name": "stderr",
     "output_type": "stream",
     "text": []
    },
    {
     "name": "stdout",
     "output_type": "stream",
     "text": [
      "42/42 [==============================] - 0s 340us/step\n",
      "42/42 [==============================] - 0s 323us/step\n",
      "42/42 [==============================] - 0s 321us/step\n",
      "42/42 [==============================] - 0s 328us/step\n"
     ]
    },
    {
     "name": "stderr",
     "output_type": "stream",
     "text": []
    },
    {
     "name": "stdout",
     "output_type": "stream",
     "text": [
      "54/54 [==============================] - 0s 395us/step\n",
      "54/54 [==============================] - 0s 328us/step\n",
      "54/54 [==============================] - 0s 321us/step\n",
      "54/54 [==============================] - 0s 315us/step\n"
     ]
    },
    {
     "name": "stderr",
     "output_type": "stream",
     "text": []
    },
    {
     "name": "stdout",
     "output_type": "stream",
     "text": [
      "33/33 [==============================] - 0s 352us/step\n",
      "33/33 [==============================] - 0s 343us/step\n",
      "33/33 [==============================] - 0s 324us/step\n",
      "33/33 [==============================] - 0s 339us/step\n"
     ]
    },
    {
     "name": "stderr",
     "output_type": "stream",
     "text": []
    },
    {
     "name": "stdout",
     "output_type": "stream",
     "text": [
      "71/71 [==============================] - 0s 351us/step\n",
      "71/71 [==============================] - 0s 319us/step\n",
      "71/71 [==============================] - 0s 324us/step\n",
      "71/71 [==============================] - 0s 320us/step\n"
     ]
    },
    {
     "name": "stderr",
     "output_type": "stream",
     "text": []
    },
    {
     "name": "stdout",
     "output_type": "stream",
     "text": [
      "68/68 [==============================] - 0s 344us/step\n",
      "68/68 [==============================] - 0s 318us/step\n",
      "68/68 [==============================] - 0s 333us/step\n",
      "68/68 [==============================] - 0s 314us/step\n"
     ]
    },
    {
     "name": "stderr",
     "output_type": "stream",
     "text": []
    },
    {
     "name": "stdout",
     "output_type": "stream",
     "text": [
      "65/65 [==============================] - 0s 346us/step\n",
      "65/65 [==============================] - 0s 315us/step\n",
      "65/65 [==============================] - 0s 323us/step\n",
      "65/65 [==============================] - 0s 318us/step\n"
     ]
    },
    {
     "name": "stderr",
     "output_type": "stream",
     "text": []
    },
    {
     "name": "stdout",
     "output_type": "stream",
     "text": [
      "51/51 [==============================] - 0s 342us/step\n",
      "51/51 [==============================] - 0s 337us/step\n",
      "51/51 [==============================] - 0s 324us/step\n",
      "51/51 [==============================] - 0s 331us/step\n"
     ]
    },
    {
     "name": "stderr",
     "output_type": "stream",
     "text": []
    },
    {
     "name": "stdout",
     "output_type": "stream",
     "text": [
      "62/62 [==============================] - 0s 346us/step\n",
      "62/62 [==============================] - 0s 332us/step\n",
      "62/62 [==============================] - 0s 346us/step\n",
      "62/62 [==============================] - 0s 322us/step\n"
     ]
    },
    {
     "name": "stderr",
     "output_type": "stream",
     "text": []
    },
    {
     "name": "stdout",
     "output_type": "stream",
     "text": [
      "29/29 [==============================] - 0s 335us/step\n",
      "29/29 [==============================] - 0s 360us/step\n",
      "29/29 [==============================] - 0s 334us/step\n",
      "29/29 [==============================] - 0s 346us/step\n"
     ]
    },
    {
     "name": "stderr",
     "output_type": "stream",
     "text": []
    },
    {
     "name": "stdout",
     "output_type": "stream",
     "text": [
      "36/36 [==============================] - 0s 355us/step\n",
      "36/36 [==============================] - 0s 332us/step\n",
      "36/36 [==============================] - 0s 332us/step\n",
      "36/36 [==============================] - 0s 334us/step\n"
     ]
    },
    {
     "name": "stderr",
     "output_type": "stream",
     "text": [
      "100%|██████████| 18/18 [00:05<00:00,  3.57it/s]\n",
      "100%|██████████| 18/18 [00:00<00:00, 269.27it/s]\n",
      "100%|██████████| 18/18 [00:00<00:00, 280.47it/s]\n"
     ]
    },
    {
     "name": "stdout",
     "output_type": "stream",
     "text": [
      "747/747 [==============================] - 0s 342us/step\n",
      "747/747 [==============================] - 0s 294us/step\n",
      "747/747 [==============================] - 0s 295us/step\n",
      "747/747 [==============================] - 0s 292us/step\n",
      "Saved fire probability xarray for 2023\n"
     ]
    },
    {
     "name": "stderr",
     "output_type": "stream",
     "text": []
    },
    {
     "name": "stdout",
     "output_type": "stream",
     "text": [
      "1/1 [==============================] - 0s 38ms/step\n",
      "1/1 [==============================] - 0s 11ms/step\n",
      "1/1 [==============================] - 0s 11ms/step\n",
      "1/1 [==============================] - 0s 11ms/step\n"
     ]
    },
    {
     "name": "stderr",
     "output_type": "stream",
     "text": []
    },
    {
     "name": "stdout",
     "output_type": "stream",
     "text": [
      "1/1 [==============================] - 0s 10ms/step\n",
      "1/1 [==============================] - 0s 11ms/step\n",
      "1/1 [==============================] - 0s 11ms/step\n",
      "1/1 [==============================] - 0s 9ms/step\n",
      "1/1 [==============================] - 0s 9ms/step\n"
     ]
    },
    {
     "name": "stderr",
     "output_type": "stream",
     "text": []
    },
    {
     "name": "stdout",
     "output_type": "stream",
     "text": [
      "1/1 [==============================] - 0s 10ms/step\n",
      "1/1 [==============================] - 0s 21ms/step\n",
      "1/1 [==============================] - 0s 9ms/step\n"
     ]
    },
    {
     "name": "stderr",
     "output_type": "stream",
     "text": []
    },
    {
     "name": "stdout",
     "output_type": "stream",
     "text": [
      "1/1 [==============================] - 0s 9ms/step\n",
      "1/1 [==============================] - 0s 9ms/step\n",
      "1/1 [==============================] - 0s 9ms/step\n",
      "1/1 [==============================] - 0s 10ms/step\n"
     ]
    },
    {
     "name": "stderr",
     "output_type": "stream",
     "text": []
    },
    {
     "name": "stdout",
     "output_type": "stream",
     "text": [
      "1/1 [==============================] - 0s 9ms/step\n",
      "1/1 [==============================] - 0s 10ms/step\n",
      "1/1 [==============================] - 0s 11ms/step\n",
      "1/1 [==============================] - 0s 10ms/step\n"
     ]
    },
    {
     "name": "stderr",
     "output_type": "stream",
     "text": []
    },
    {
     "name": "stdout",
     "output_type": "stream",
     "text": [
      "1/1 [==============================] - 0s 11ms/step\n",
      "1/1 [==============================] - 0s 11ms/step\n",
      "1/1 [==============================] - 0s 11ms/step\n",
      "1/1 [==============================] - 0s 10ms/step\n",
      "1/1 [==============================] - 0s 10ms/step\n",
      "1/1 [==============================] - 0s 9ms/step\n",
      "1/1 [==============================] - 0s 9ms/step\n"
     ]
    },
    {
     "name": "stderr",
     "output_type": "stream",
     "text": []
    },
    {
     "name": "stdout",
     "output_type": "stream",
     "text": [
      "1/1 [==============================] - 0s 10ms/step\n",
      "1/1 [==============================] - 0s 9ms/step\n",
      "1/1 [==============================] - 0s 9ms/step\n",
      "1/1 [==============================] - 0s 9ms/step\n",
      "1/1 [==============================] - 0s 19ms/step\n"
     ]
    },
    {
     "name": "stderr",
     "output_type": "stream",
     "text": []
    },
    {
     "name": "stdout",
     "output_type": "stream",
     "text": [
      "1/1 [==============================] - 0s 10ms/step\n",
      "1/1 [==============================] - 0s 10ms/step\n",
      "1/1 [==============================] - 0s 10ms/step\n",
      "1/1 [==============================] - 0s 10ms/step\n",
      "1/1 [==============================] - 0s 11ms/step\n",
      "1/1 [==============================] - 0s 11ms/step\n",
      "1/1 [==============================] - 0s 9ms/step\n"
     ]
    },
    {
     "name": "stderr",
     "output_type": "stream",
     "text": []
    },
    {
     "name": "stdout",
     "output_type": "stream",
     "text": [
      "1/1 [==============================] - 0s 10ms/step\n",
      "1/1 [==============================] - 0s 9ms/step\n"
     ]
    },
    {
     "name": "stderr",
     "output_type": "stream",
     "text": [
      "100%|██████████| 18/18 [00:01<00:00, 12.97it/s]\n"
     ]
    },
    {
     "name": "stdout",
     "output_type": "stream",
     "text": [
      "1/1 [==============================] - 0s 39ms/step\n",
      "1/1 [==============================] - 0s 10ms/step\n",
      "1/1 [==============================] - 0s 9ms/step\n",
      "1/1 [==============================] - 0s 9ms/step\n"
     ]
    },
    {
     "name": "stderr",
     "output_type": "stream",
     "text": []
    },
    {
     "name": "stdout",
     "output_type": "stream",
     "text": [
      "1/1 [==============================] - 0s 9ms/step\n",
      "1/1 [==============================] - 0s 9ms/step\n",
      "1/1 [==============================] - 0s 9ms/step\n",
      "1/1 [==============================] - 0s 10ms/step\n",
      "1/1 [==============================] - 0s 11ms/step\n"
     ]
    },
    {
     "name": "stderr",
     "output_type": "stream",
     "text": []
    },
    {
     "name": "stdout",
     "output_type": "stream",
     "text": [
      "1/1 [==============================] - 0s 16ms/step\n",
      "1/1 [==============================] - 0s 10ms/step\n",
      "1/1 [==============================] - 0s 10ms/step\n"
     ]
    },
    {
     "name": "stderr",
     "output_type": "stream",
     "text": []
    },
    {
     "name": "stdout",
     "output_type": "stream",
     "text": [
      "1/1 [==============================] - 0s 10ms/step\n",
      "1/1 [==============================] - 0s 10ms/step\n",
      "1/1 [==============================] - 0s 10ms/step\n",
      "1/1 [==============================] - 0s 9ms/step\n"
     ]
    },
    {
     "name": "stderr",
     "output_type": "stream",
     "text": []
    },
    {
     "name": "stdout",
     "output_type": "stream",
     "text": [
      "1/1 [==============================] - 0s 9ms/step\n",
      "1/1 [==============================] - 0s 9ms/step\n",
      "1/1 [==============================] - 0s 10ms/step\n",
      "1/1 [==============================] - 0s 13ms/step\n"
     ]
    },
    {
     "name": "stderr",
     "output_type": "stream",
     "text": []
    },
    {
     "name": "stdout",
     "output_type": "stream",
     "text": [
      "1/1 [==============================] - 0s 10ms/step\n",
      "1/1 [==============================] - 0s 9ms/step\n",
      "1/1 [==============================] - 0s 9ms/step\n",
      "1/1 [==============================] - 0s 9ms/step\n",
      "1/1 [==============================] - 0s 10ms/step\n",
      "1/1 [==============================] - 0s 10ms/step\n",
      "1/1 [==============================] - 0s 10ms/step\n"
     ]
    },
    {
     "name": "stderr",
     "output_type": "stream",
     "text": []
    },
    {
     "name": "stdout",
     "output_type": "stream",
     "text": [
      "1/1 [==============================] - 0s 10ms/step\n",
      "1/1 [==============================] - 0s 11ms/step\n",
      "1/1 [==============================] - 0s 10ms/step\n",
      "1/1 [==============================] - 0s 12ms/step\n",
      "1/1 [==============================] - 0s 10ms/step\n"
     ]
    },
    {
     "name": "stderr",
     "output_type": "stream",
     "text": []
    },
    {
     "name": "stdout",
     "output_type": "stream",
     "text": [
      "1/1 [==============================] - 0s 10ms/step\n",
      "1/1 [==============================] - 0s 10ms/step\n",
      "1/1 [==============================] - 0s 10ms/step\n",
      "1/1 [==============================] - 0s 10ms/step\n",
      "1/1 [==============================] - 0s 9ms/step\n",
      "1/1 [==============================] - 0s 9ms/step\n",
      "1/1 [==============================] - 0s 10ms/step\n"
     ]
    },
    {
     "name": "stderr",
     "output_type": "stream",
     "text": []
    },
    {
     "name": "stdout",
     "output_type": "stream",
     "text": [
      "1/1 [==============================] - 0s 9ms/step\n",
      "1/1 [==============================] - 0s 10ms/step\n"
     ]
    },
    {
     "name": "stderr",
     "output_type": "stream",
     "text": [
      "100%|██████████| 18/18 [00:01<00:00, 13.16it/s]\n",
      " 22%|██▏       | 2/9 [03:39<12:49, 109.94s/it]"
     ]
    },
    {
     "name": "stdout",
     "output_type": "stream",
     "text": [
      "19/19 [==============================] - 0s 376us/step\n",
      "19/19 [==============================] - 0s 467us/step\n",
      "19/19 [==============================] - 0s 371us/step\n",
      "19/19 [==============================] - 0s 365us/step\n"
     ]
    },
    {
     "name": "stderr",
     "output_type": "stream",
     "text": []
    },
    {
     "name": "stdout",
     "output_type": "stream",
     "text": [
      "10/10 [==============================] - 0s 457us/step\n",
      "10/10 [==============================] - 0s 448us/step\n",
      "10/10 [==============================] - 0s 518us/step\n",
      "10/10 [==============================] - 0s 482us/step\n"
     ]
    },
    {
     "name": "stderr",
     "output_type": "stream",
     "text": []
    },
    {
     "name": "stdout",
     "output_type": "stream",
     "text": [
      "17/17 [==============================] - 0s 429us/step\n",
      "17/17 [==============================] - 0s 439us/step\n",
      "17/17 [==============================] - 0s 384us/step\n",
      "17/17 [==============================] - 0s 363us/step\n"
     ]
    },
    {
     "name": "stderr",
     "output_type": "stream",
     "text": []
    },
    {
     "name": "stdout",
     "output_type": "stream",
     "text": [
      "8/8 [==============================] - 0s 441us/step\n",
      "8/8 [==============================] - 0s 472us/step\n",
      "8/8 [==============================] - 0s 421us/step\n",
      "8/8 [==============================] - 0s 432us/step\n"
     ]
    },
    {
     "name": "stderr",
     "output_type": "stream",
     "text": []
    },
    {
     "name": "stdout",
     "output_type": "stream",
     "text": [
      "37/37 [==============================] - 0s 665us/step\n",
      "37/37 [==============================] - 0s 317us/step\n",
      "37/37 [==============================] - 0s 326us/step\n",
      "37/37 [==============================] - 0s 320us/step\n"
     ]
    },
    {
     "name": "stderr",
     "output_type": "stream",
     "text": []
    },
    {
     "name": "stdout",
     "output_type": "stream",
     "text": [
      "19/19 [==============================] - 0s 364us/step\n",
      "19/19 [==============================] - 0s 351us/step\n",
      "19/19 [==============================] - 0s 355us/step\n",
      "19/19 [==============================] - 0s 350us/step\n"
     ]
    },
    {
     "name": "stderr",
     "output_type": "stream",
     "text": []
    },
    {
     "name": "stdout",
     "output_type": "stream",
     "text": [
      "22/22 [==============================] - 0s 374us/step\n",
      "22/22 [==============================] - 0s 375us/step\n",
      "22/22 [==============================] - 0s 353us/step\n",
      "22/22 [==============================] - 0s 347us/step\n"
     ]
    },
    {
     "name": "stderr",
     "output_type": "stream",
     "text": []
    },
    {
     "name": "stdout",
     "output_type": "stream",
     "text": [
      "65/65 [==============================] - 0s 335us/step\n",
      "65/65 [==============================] - 0s 313us/step\n",
      "65/65 [==============================] - 0s 317us/step\n",
      "65/65 [==============================] - 0s 318us/step\n"
     ]
    },
    {
     "name": "stderr",
     "output_type": "stream",
     "text": []
    },
    {
     "name": "stdout",
     "output_type": "stream",
     "text": [
      "42/42 [==============================] - 0s 325us/step\n",
      "42/42 [==============================] - 0s 341us/step\n",
      "42/42 [==============================] - 0s 319us/step\n",
      "42/42 [==============================] - 0s 327us/step\n"
     ]
    },
    {
     "name": "stderr",
     "output_type": "stream",
     "text": []
    },
    {
     "name": "stdout",
     "output_type": "stream",
     "text": [
      "54/54 [==============================] - 0s 325us/step\n",
      "54/54 [==============================] - 0s 319us/step\n",
      "54/54 [==============================] - 0s 328us/step\n",
      "54/54 [==============================] - 0s 318us/step\n"
     ]
    },
    {
     "name": "stderr",
     "output_type": "stream",
     "text": []
    },
    {
     "name": "stdout",
     "output_type": "stream",
     "text": [
      "33/33 [==============================] - 0s 361us/step\n",
      "33/33 [==============================] - 0s 341us/step\n",
      "33/33 [==============================] - 0s 325us/step\n",
      "33/33 [==============================] - 0s 339us/step\n"
     ]
    },
    {
     "name": "stderr",
     "output_type": "stream",
     "text": []
    },
    {
     "name": "stdout",
     "output_type": "stream",
     "text": [
      "71/71 [==============================] - 0s 336us/step\n",
      "71/71 [==============================] - 0s 313us/step\n",
      "71/71 [==============================] - 0s 319us/step\n",
      "71/71 [==============================] - 0s 322us/step\n"
     ]
    },
    {
     "name": "stderr",
     "output_type": "stream",
     "text": []
    },
    {
     "name": "stdout",
     "output_type": "stream",
     "text": [
      "68/68 [==============================] - 0s 372us/step\n",
      "68/68 [==============================] - 0s 349us/step\n",
      "68/68 [==============================] - 0s 317us/step\n",
      "68/68 [==============================] - 0s 333us/step\n"
     ]
    },
    {
     "name": "stderr",
     "output_type": "stream",
     "text": []
    },
    {
     "name": "stdout",
     "output_type": "stream",
     "text": [
      "65/65 [==============================] - 0s 349us/step\n",
      "65/65 [==============================] - 0s 318us/step\n",
      "65/65 [==============================] - 0s 328us/step\n",
      "65/65 [==============================] - 0s 309us/step\n"
     ]
    },
    {
     "name": "stderr",
     "output_type": "stream",
     "text": []
    },
    {
     "name": "stdout",
     "output_type": "stream",
     "text": [
      "51/51 [==============================] - 0s 360us/step\n",
      "51/51 [==============================] - 0s 332us/step\n",
      "51/51 [==============================] - 0s 327us/step\n",
      "51/51 [==============================] - 0s 361us/step\n"
     ]
    },
    {
     "name": "stderr",
     "output_type": "stream",
     "text": []
    },
    {
     "name": "stdout",
     "output_type": "stream",
     "text": [
      "62/62 [==============================] - 0s 347us/step\n",
      "62/62 [==============================] - 0s 316us/step\n",
      "62/62 [==============================] - 0s 309us/step\n",
      "62/62 [==============================] - 0s 316us/step\n"
     ]
    },
    {
     "name": "stderr",
     "output_type": "stream",
     "text": []
    },
    {
     "name": "stdout",
     "output_type": "stream",
     "text": [
      "29/29 [==============================] - 0s 358us/step\n",
      "29/29 [==============================] - 0s 348us/step\n",
      "29/29 [==============================] - 0s 342us/step\n",
      "29/29 [==============================] - 0s 350us/step\n"
     ]
    },
    {
     "name": "stderr",
     "output_type": "stream",
     "text": []
    },
    {
     "name": "stdout",
     "output_type": "stream",
     "text": [
      "36/36 [==============================] - 0s 350us/step\n",
      "36/36 [==============================] - 0s 339us/step\n",
      "36/36 [==============================] - 0s 327us/step\n",
      "36/36 [==============================] - 0s 329us/step\n"
     ]
    },
    {
     "name": "stderr",
     "output_type": "stream",
     "text": [
      "100%|██████████| 18/18 [00:05<00:00,  3.50it/s]\n",
      "100%|██████████| 18/18 [00:00<00:00, 921.24it/s]\n"
     ]
    },
    {
     "name": "stdout",
     "output_type": "stream",
     "text": [
      "19/19 [==============================] - 0s 364us/step\n",
      "19/19 [==============================] - 0s 366us/step\n",
      "19/19 [==============================] - 0s 355us/step\n",
      "19/19 [==============================] - 0s 351us/step\n"
     ]
    },
    {
     "name": "stderr",
     "output_type": "stream",
     "text": []
    },
    {
     "name": "stdout",
     "output_type": "stream",
     "text": [
      "10/10 [==============================] - 0s 443us/step\n",
      "10/10 [==============================] - 0s 429us/step\n",
      "10/10 [==============================] - 0s 456us/step\n",
      "10/10 [==============================] - 0s 442us/step\n"
     ]
    },
    {
     "name": "stderr",
     "output_type": "stream",
     "text": []
    },
    {
     "name": "stdout",
     "output_type": "stream",
     "text": [
      "17/17 [==============================] - 0s 381us/step\n",
      "17/17 [==============================] - 0s 393us/step\n",
      "17/17 [==============================] - 0s 371us/step\n",
      "17/17 [==============================] - 0s 402us/step\n"
     ]
    },
    {
     "name": "stderr",
     "output_type": "stream",
     "text": []
    },
    {
     "name": "stdout",
     "output_type": "stream",
     "text": [
      "8/8 [==============================] - 0s 518us/step\n",
      "8/8 [==============================] - 0s 446us/step\n",
      "8/8 [==============================] - 0s 521us/step\n",
      "8/8 [==============================] - 0s 482us/step\n"
     ]
    },
    {
     "name": "stderr",
     "output_type": "stream",
     "text": []
    },
    {
     "name": "stdout",
     "output_type": "stream",
     "text": [
      "37/37 [==============================] - 0s 348us/step\n",
      "37/37 [==============================] - 0s 318us/step\n",
      "37/37 [==============================] - 0s 333us/step\n",
      "37/37 [==============================] - 0s 333us/step\n"
     ]
    },
    {
     "name": "stderr",
     "output_type": "stream",
     "text": []
    },
    {
     "name": "stdout",
     "output_type": "stream",
     "text": [
      "19/19 [==============================] - 0s 389us/step\n",
      "19/19 [==============================] - 0s 364us/step\n",
      "19/19 [==============================] - 0s 383us/step\n",
      "19/19 [==============================] - 0s 379us/step\n"
     ]
    },
    {
     "name": "stderr",
     "output_type": "stream",
     "text": []
    },
    {
     "name": "stdout",
     "output_type": "stream",
     "text": [
      "22/22 [==============================] - 0s 701us/step\n",
      "22/22 [==============================] - 0s 397us/step\n",
      "22/22 [==============================] - 0s 374us/step\n",
      "22/22 [==============================] - 0s 368us/step\n"
     ]
    },
    {
     "name": "stderr",
     "output_type": "stream",
     "text": []
    },
    {
     "name": "stdout",
     "output_type": "stream",
     "text": [
      "65/65 [==============================] - 0s 333us/step\n",
      "65/65 [==============================] - 0s 326us/step\n",
      "65/65 [==============================] - 0s 319us/step\n",
      "65/65 [==============================] - 0s 311us/step\n"
     ]
    },
    {
     "name": "stderr",
     "output_type": "stream",
     "text": []
    },
    {
     "name": "stdout",
     "output_type": "stream",
     "text": [
      "42/42 [==============================] - 0s 362us/step\n",
      "42/42 [==============================] - 0s 335us/step\n",
      "42/42 [==============================] - 0s 326us/step\n",
      "42/42 [==============================] - 0s 323us/step\n"
     ]
    },
    {
     "name": "stderr",
     "output_type": "stream",
     "text": []
    },
    {
     "name": "stdout",
     "output_type": "stream",
     "text": [
      "54/54 [==============================] - 0s 349us/step\n",
      "54/54 [==============================] - 0s 320us/step\n",
      "54/54 [==============================] - 0s 317us/step\n",
      "54/54 [==============================] - 0s 365us/step\n"
     ]
    },
    {
     "name": "stderr",
     "output_type": "stream",
     "text": []
    },
    {
     "name": "stdout",
     "output_type": "stream",
     "text": [
      "33/33 [==============================] - 0s 1ms/step\n",
      "33/33 [==============================] - 0s 352us/step\n",
      "33/33 [==============================] - 0s 334us/step\n",
      "33/33 [==============================] - 0s 325us/step\n"
     ]
    },
    {
     "name": "stderr",
     "output_type": "stream",
     "text": []
    },
    {
     "name": "stdout",
     "output_type": "stream",
     "text": [
      "71/71 [==============================] - 0s 340us/step\n",
      "71/71 [==============================] - 0s 314us/step\n",
      "71/71 [==============================] - 0s 330us/step\n",
      "71/71 [==============================] - 0s 318us/step\n"
     ]
    },
    {
     "name": "stderr",
     "output_type": "stream",
     "text": []
    },
    {
     "name": "stdout",
     "output_type": "stream",
     "text": [
      "68/68 [==============================] - 0s 330us/step\n",
      "68/68 [==============================] - 0s 314us/step\n",
      "68/68 [==============================] - 0s 312us/step\n",
      "68/68 [==============================] - 0s 331us/step\n"
     ]
    },
    {
     "name": "stderr",
     "output_type": "stream",
     "text": []
    },
    {
     "name": "stdout",
     "output_type": "stream",
     "text": [
      "65/65 [==============================] - 0s 335us/step\n",
      "65/65 [==============================] - 0s 318us/step\n",
      "65/65 [==============================] - 0s 328us/step\n",
      "65/65 [==============================] - 0s 322us/step\n"
     ]
    },
    {
     "name": "stderr",
     "output_type": "stream",
     "text": []
    },
    {
     "name": "stdout",
     "output_type": "stream",
     "text": [
      "51/51 [==============================] - 0s 329us/step\n",
      "51/51 [==============================] - 0s 332us/step\n",
      "51/51 [==============================] - 0s 324us/step\n",
      "51/51 [==============================] - 0s 316us/step\n"
     ]
    },
    {
     "name": "stderr",
     "output_type": "stream",
     "text": []
    },
    {
     "name": "stdout",
     "output_type": "stream",
     "text": [
      "62/62 [==============================] - 0s 344us/step\n",
      "62/62 [==============================] - 0s 315us/step\n",
      "62/62 [==============================] - 0s 318us/step\n",
      "62/62 [==============================] - 0s 324us/step\n"
     ]
    },
    {
     "name": "stderr",
     "output_type": "stream",
     "text": []
    },
    {
     "name": "stdout",
     "output_type": "stream",
     "text": [
      "29/29 [==============================] - 0s 348us/step\n",
      "29/29 [==============================] - 0s 347us/step\n",
      "29/29 [==============================] - 0s 342us/step\n",
      "29/29 [==============================] - 0s 345us/step\n"
     ]
    },
    {
     "name": "stderr",
     "output_type": "stream",
     "text": []
    },
    {
     "name": "stdout",
     "output_type": "stream",
     "text": [
      "36/36 [==============================] - 0s 340us/step\n",
      "36/36 [==============================] - 0s 339us/step\n",
      "36/36 [==============================] - 0s 323us/step\n",
      "36/36 [==============================] - 0s 340us/step\n"
     ]
    },
    {
     "name": "stderr",
     "output_type": "stream",
     "text": [
      "100%|██████████| 18/18 [00:05<00:00,  3.56it/s]\n",
      "100%|██████████| 18/18 [00:00<00:00, 254.54it/s]\n",
      "100%|██████████| 18/18 [00:00<00:00, 276.68it/s]\n"
     ]
    },
    {
     "name": "stdout",
     "output_type": "stream",
     "text": [
      "747/747 [==============================] - 0s 304us/step\n",
      "747/747 [==============================] - 0s 296us/step\n",
      "747/747 [==============================] - 0s 296us/step\n",
      "747/747 [==============================] - 0s 295us/step\n",
      "Saved fire probability xarray for 2023\n"
     ]
    },
    {
     "name": "stderr",
     "output_type": "stream",
     "text": []
    },
    {
     "name": "stdout",
     "output_type": "stream",
     "text": [
      "1/1 [==============================] - 0s 38ms/step\n",
      "1/1 [==============================] - 0s 12ms/step\n",
      "1/1 [==============================] - 0s 11ms/step\n",
      "1/1 [==============================] - 0s 10ms/step\n"
     ]
    },
    {
     "name": "stderr",
     "output_type": "stream",
     "text": []
    },
    {
     "name": "stdout",
     "output_type": "stream",
     "text": [
      "1/1 [==============================] - 0s 10ms/step\n",
      "1/1 [==============================] - 0s 11ms/step\n",
      "1/1 [==============================] - 0s 11ms/step\n",
      "1/1 [==============================] - 0s 11ms/step\n",
      "1/1 [==============================] - 0s 9ms/step\n",
      "1/1 [==============================] - 0s 20ms/step\n"
     ]
    },
    {
     "name": "stderr",
     "output_type": "stream",
     "text": []
    },
    {
     "name": "stdout",
     "output_type": "stream",
     "text": [
      "1/1 [==============================] - 0s 11ms/step\n",
      "1/1 [==============================] - 0s 10ms/step\n",
      "1/1 [==============================] - 0s 10ms/step\n",
      "1/1 [==============================] - 0s 9ms/step\n",
      "1/1 [==============================] - 0s 9ms/step\n",
      "1/1 [==============================] - 0s 10ms/step\n"
     ]
    },
    {
     "name": "stderr",
     "output_type": "stream",
     "text": []
    },
    {
     "name": "stdout",
     "output_type": "stream",
     "text": [
      "1/1 [==============================] - 0s 11ms/step\n",
      "1/1 [==============================] - 0s 10ms/step\n",
      "1/1 [==============================] - 0s 10ms/step\n",
      "1/1 [==============================] - 0s 11ms/step\n"
     ]
    },
    {
     "name": "stderr",
     "output_type": "stream",
     "text": []
    },
    {
     "name": "stdout",
     "output_type": "stream",
     "text": [
      "1/1 [==============================] - 0s 11ms/step\n",
      "1/1 [==============================] - 0s 10ms/step\n",
      "1/1 [==============================] - 0s 11ms/step\n",
      "1/1 [==============================] - 0s 10ms/step\n",
      "1/1 [==============================] - 0s 9ms/step\n",
      "1/1 [==============================] - 0s 10ms/step\n",
      "1/1 [==============================] - 0s 9ms/step\n",
      "1/1 [==============================] - 0s 12ms/step\n"
     ]
    },
    {
     "name": "stderr",
     "output_type": "stream",
     "text": []
    },
    {
     "name": "stdout",
     "output_type": "stream",
     "text": [
      "1/1 [==============================] - 0s 9ms/step\n",
      "1/1 [==============================] - 0s 10ms/step\n",
      "1/1 [==============================] - 0s 9ms/step\n",
      "1/1 [==============================] - 0s 18ms/step\n",
      "1/1 [==============================] - 0s 11ms/step\n",
      "1/1 [==============================] - 0s 11ms/step\n"
     ]
    },
    {
     "name": "stderr",
     "output_type": "stream",
     "text": []
    },
    {
     "name": "stdout",
     "output_type": "stream",
     "text": [
      "1/1 [==============================] - 0s 10ms/step\n",
      "1/1 [==============================] - 0s 11ms/step\n",
      "1/1 [==============================] - 0s 11ms/step\n",
      "1/1 [==============================] - 0s 10ms/step\n",
      "1/1 [==============================] - 0s 10ms/step\n",
      "1/1 [==============================] - 0s 9ms/step\n"
     ]
    },
    {
     "name": "stderr",
     "output_type": "stream",
     "text": []
    },
    {
     "name": "stdout",
     "output_type": "stream",
     "text": [
      "1/1 [==============================] - 0s 10ms/step\n",
      "1/1 [==============================] - 0s 10ms/step\n"
     ]
    },
    {
     "name": "stderr",
     "output_type": "stream",
     "text": [
      "100%|██████████| 18/18 [00:01<00:00, 12.66it/s]\n"
     ]
    },
    {
     "name": "stdout",
     "output_type": "stream",
     "text": [
      "1/1 [==============================] - 0s 38ms/step\n",
      "1/1 [==============================] - 0s 10ms/step\n",
      "1/1 [==============================] - 0s 10ms/step\n",
      "1/1 [==============================] - 0s 9ms/step\n"
     ]
    },
    {
     "name": "stderr",
     "output_type": "stream",
     "text": []
    },
    {
     "name": "stdout",
     "output_type": "stream",
     "text": [
      "1/1 [==============================] - 0s 10ms/step\n",
      "1/1 [==============================] - 0s 10ms/step\n",
      "1/1 [==============================] - 0s 10ms/step\n",
      "1/1 [==============================] - 0s 9ms/step\n",
      "1/1 [==============================] - 0s 21ms/step\n",
      "1/1 [==============================] - 0s 10ms/step\n"
     ]
    },
    {
     "name": "stderr",
     "output_type": "stream",
     "text": []
    },
    {
     "name": "stdout",
     "output_type": "stream",
     "text": [
      "1/1 [==============================] - 0s 9ms/step\n",
      "1/1 [==============================] - 0s 9ms/step\n",
      "1/1 [==============================] - 0s 10ms/step\n",
      "1/1 [==============================] - 0s 10ms/step\n",
      "1/1 [==============================] - 0s 10ms/step\n",
      "1/1 [==============================] - 0s 10ms/step\n"
     ]
    },
    {
     "name": "stderr",
     "output_type": "stream",
     "text": []
    },
    {
     "name": "stdout",
     "output_type": "stream",
     "text": [
      "1/1 [==============================] - 0s 10ms/step\n",
      "1/1 [==============================] - 0s 10ms/step\n",
      "1/1 [==============================] - 0s 10ms/step\n",
      "1/1 [==============================] - 0s 9ms/step\n"
     ]
    },
    {
     "name": "stderr",
     "output_type": "stream",
     "text": []
    },
    {
     "name": "stdout",
     "output_type": "stream",
     "text": [
      "1/1 [==============================] - 0s 9ms/step\n",
      "1/1 [==============================] - 0s 9ms/step\n",
      "1/1 [==============================] - 0s 10ms/step\n",
      "1/1 [==============================] - 0s 10ms/step\n",
      "1/1 [==============================] - 0s 10ms/step\n",
      "1/1 [==============================] - 0s 10ms/step\n",
      "1/1 [==============================] - 0s 11ms/step\n",
      "1/1 [==============================] - 0s 10ms/step\n"
     ]
    },
    {
     "name": "stderr",
     "output_type": "stream",
     "text": []
    },
    {
     "name": "stdout",
     "output_type": "stream",
     "text": [
      "1/1 [==============================] - 0s 10ms/step\n",
      "1/1 [==============================] - 0s 11ms/step\n",
      "1/1 [==============================] - 0s 10ms/step\n",
      "1/1 [==============================] - 0s 10ms/step\n",
      "1/1 [==============================] - 0s 9ms/step\n",
      "1/1 [==============================] - 0s 9ms/step\n"
     ]
    },
    {
     "name": "stderr",
     "output_type": "stream",
     "text": []
    },
    {
     "name": "stdout",
     "output_type": "stream",
     "text": [
      "1/1 [==============================] - 0s 12ms/step\n",
      "1/1 [==============================] - 0s 9ms/step\n",
      "1/1 [==============================] - 0s 9ms/step\n",
      "1/1 [==============================] - 0s 9ms/step\n",
      "1/1 [==============================] - 0s 10ms/step\n",
      "1/1 [==============================] - 0s 10ms/step\n"
     ]
    },
    {
     "name": "stderr",
     "output_type": "stream",
     "text": []
    },
    {
     "name": "stdout",
     "output_type": "stream",
     "text": [
      "1/1 [==============================] - 0s 9ms/step\n",
      "1/1 [==============================] - 0s 10ms/step\n"
     ]
    },
    {
     "name": "stderr",
     "output_type": "stream",
     "text": [
      "100%|██████████| 18/18 [00:01<00:00, 12.70it/s]\n",
      " 33%|███▎      | 3/9 [05:47<11:49, 118.25s/it]"
     ]
    },
    {
     "name": "stdout",
     "output_type": "stream",
     "text": [
      "19/19 [==============================] - 0s 396us/step\n",
      "19/19 [==============================] - 0s 421us/step\n",
      "19/19 [==============================] - 0s 404us/step\n",
      "19/19 [==============================] - 0s 715us/step\n"
     ]
    },
    {
     "name": "stderr",
     "output_type": "stream",
     "text": []
    },
    {
     "name": "stdout",
     "output_type": "stream",
     "text": [
      "10/10 [==============================] - 0s 519us/step\n",
      "10/10 [==============================] - 0s 440us/step\n",
      "10/10 [==============================] - 0s 430us/step\n",
      "10/10 [==============================] - 0s 427us/step\n"
     ]
    },
    {
     "name": "stderr",
     "output_type": "stream",
     "text": []
    },
    {
     "name": "stdout",
     "output_type": "stream",
     "text": [
      "17/17 [==============================] - 0s 368us/step\n",
      "17/17 [==============================] - 0s 371us/step\n",
      "17/17 [==============================] - 0s 356us/step\n",
      "17/17 [==============================] - 0s 372us/step\n"
     ]
    },
    {
     "name": "stderr",
     "output_type": "stream",
     "text": []
    },
    {
     "name": "stdout",
     "output_type": "stream",
     "text": [
      "8/8 [==============================] - 0s 437us/step\n",
      "8/8 [==============================] - 0s 567us/step\n",
      "8/8 [==============================] - 0s 423us/step\n",
      "8/8 [==============================] - 0s 467us/step\n"
     ]
    },
    {
     "name": "stderr",
     "output_type": "stream",
     "text": []
    },
    {
     "name": "stdout",
     "output_type": "stream",
     "text": [
      "37/37 [==============================] - 0s 363us/step\n",
      "37/37 [==============================] - 0s 337us/step\n",
      "37/37 [==============================] - 0s 329us/step\n",
      "37/37 [==============================] - 0s 330us/step\n"
     ]
    },
    {
     "name": "stderr",
     "output_type": "stream",
     "text": []
    },
    {
     "name": "stdout",
     "output_type": "stream",
     "text": [
      "19/19 [==============================] - 0s 1ms/step\n",
      "19/19 [==============================] - 0s 409us/step\n",
      "19/19 [==============================] - 0s 378us/step\n",
      "19/19 [==============================] - 0s 380us/step\n"
     ]
    },
    {
     "name": "stderr",
     "output_type": "stream",
     "text": []
    },
    {
     "name": "stdout",
     "output_type": "stream",
     "text": [
      "22/22 [==============================] - 0s 354us/step\n",
      "22/22 [==============================] - 0s 360us/step\n",
      "22/22 [==============================] - 0s 361us/step\n",
      "22/22 [==============================] - 0s 371us/step\n"
     ]
    },
    {
     "name": "stderr",
     "output_type": "stream",
     "text": []
    },
    {
     "name": "stdout",
     "output_type": "stream",
     "text": [
      "65/65 [==============================] - 0s 342us/step\n",
      "65/65 [==============================] - 0s 330us/step\n",
      "65/65 [==============================] - 0s 321us/step\n",
      "65/65 [==============================] - 0s 318us/step\n"
     ]
    },
    {
     "name": "stderr",
     "output_type": "stream",
     "text": []
    },
    {
     "name": "stdout",
     "output_type": "stream",
     "text": [
      "42/42 [==============================] - 0s 349us/step\n",
      "42/42 [==============================] - 0s 329us/step\n",
      "42/42 [==============================] - 0s 318us/step\n",
      "42/42 [==============================] - 0s 326us/step\n"
     ]
    },
    {
     "name": "stderr",
     "output_type": "stream",
     "text": []
    },
    {
     "name": "stdout",
     "output_type": "stream",
     "text": [
      "54/54 [==============================] - 0s 345us/step\n",
      "54/54 [==============================] - 0s 328us/step\n",
      "54/54 [==============================] - 0s 328us/step\n",
      "54/54 [==============================] - 0s 327us/step\n"
     ]
    },
    {
     "name": "stderr",
     "output_type": "stream",
     "text": []
    },
    {
     "name": "stdout",
     "output_type": "stream",
     "text": [
      "33/33 [==============================] - 0s 355us/step\n",
      "33/33 [==============================] - 0s 338us/step\n",
      "33/33 [==============================] - 0s 325us/step\n",
      "33/33 [==============================] - 0s 334us/step\n"
     ]
    },
    {
     "name": "stderr",
     "output_type": "stream",
     "text": []
    },
    {
     "name": "stdout",
     "output_type": "stream",
     "text": [
      "71/71 [==============================] - 0s 352us/step\n",
      "71/71 [==============================] - 0s 315us/step\n",
      "71/71 [==============================] - 0s 313us/step\n",
      "71/71 [==============================] - 0s 310us/step\n"
     ]
    },
    {
     "name": "stderr",
     "output_type": "stream",
     "text": []
    },
    {
     "name": "stdout",
     "output_type": "stream",
     "text": [
      "68/68 [==============================] - 0s 341us/step\n",
      "68/68 [==============================] - 0s 323us/step\n",
      "68/68 [==============================] - 0s 323us/step\n",
      "68/68 [==============================] - 0s 315us/step\n"
     ]
    },
    {
     "name": "stderr",
     "output_type": "stream",
     "text": []
    },
    {
     "name": "stdout",
     "output_type": "stream",
     "text": [
      "65/65 [==============================] - 0s 612us/step\n",
      "65/65 [==============================] - 0s 325us/step\n",
      "65/65 [==============================] - 0s 329us/step\n",
      "65/65 [==============================] - 0s 320us/step\n"
     ]
    },
    {
     "name": "stderr",
     "output_type": "stream",
     "text": []
    },
    {
     "name": "stdout",
     "output_type": "stream",
     "text": [
      "51/51 [==============================] - 0s 353us/step\n",
      "51/51 [==============================] - 0s 336us/step\n",
      "51/51 [==============================] - 0s 334us/step\n",
      "51/51 [==============================] - 0s 328us/step\n"
     ]
    },
    {
     "name": "stderr",
     "output_type": "stream",
     "text": []
    },
    {
     "name": "stdout",
     "output_type": "stream",
     "text": [
      "62/62 [==============================] - 0s 340us/step\n",
      "62/62 [==============================] - 0s 316us/step\n",
      "62/62 [==============================] - 0s 313us/step\n",
      "62/62 [==============================] - 0s 314us/step\n"
     ]
    },
    {
     "name": "stderr",
     "output_type": "stream",
     "text": []
    },
    {
     "name": "stdout",
     "output_type": "stream",
     "text": [
      "29/29 [==============================] - 0s 337us/step\n",
      "29/29 [==============================] - 0s 441us/step\n",
      "29/29 [==============================] - 0s 317us/step\n",
      "29/29 [==============================] - 0s 360us/step\n"
     ]
    },
    {
     "name": "stderr",
     "output_type": "stream",
     "text": []
    },
    {
     "name": "stdout",
     "output_type": "stream",
     "text": [
      "36/36 [==============================] - 0s 345us/step\n",
      "36/36 [==============================] - 0s 343us/step\n",
      "36/36 [==============================] - 0s 337us/step\n",
      "36/36 [==============================] - 0s 334us/step\n"
     ]
    },
    {
     "name": "stderr",
     "output_type": "stream",
     "text": [
      "100%|██████████| 18/18 [00:05<00:00,  3.49it/s]\n",
      "100%|██████████| 18/18 [00:00<00:00, 954.15it/s]\n"
     ]
    },
    {
     "name": "stdout",
     "output_type": "stream",
     "text": [
      "19/19 [==============================] - 0s 364us/step\n",
      "19/19 [==============================] - 0s 373us/step\n",
      "19/19 [==============================] - 0s 363us/step\n",
      "19/19 [==============================] - 0s 359us/step\n"
     ]
    },
    {
     "name": "stderr",
     "output_type": "stream",
     "text": []
    },
    {
     "name": "stdout",
     "output_type": "stream",
     "text": [
      "10/10 [==============================] - 0s 421us/step\n",
      "10/10 [==============================] - 0s 557us/step\n",
      "10/10 [==============================] - 0s 429us/step\n",
      "10/10 [==============================] - 0s 484us/step\n"
     ]
    },
    {
     "name": "stderr",
     "output_type": "stream",
     "text": []
    },
    {
     "name": "stdout",
     "output_type": "stream",
     "text": [
      "17/17 [==============================] - 0s 421us/step\n",
      "17/17 [==============================] - 0s 458us/step\n",
      "17/17 [==============================] - 0s 364us/step\n",
      "17/17 [==============================] - 0s 400us/step\n"
     ]
    },
    {
     "name": "stderr",
     "output_type": "stream",
     "text": []
    },
    {
     "name": "stdout",
     "output_type": "stream",
     "text": [
      "8/8 [==============================] - 0s 461us/step\n",
      "8/8 [==============================] - 0s 440us/step\n",
      "8/8 [==============================] - 0s 511us/step\n",
      "8/8 [==============================] - 0s 424us/step\n"
     ]
    },
    {
     "name": "stderr",
     "output_type": "stream",
     "text": []
    },
    {
     "name": "stdout",
     "output_type": "stream",
     "text": [
      "37/37 [==============================] - 0s 354us/step\n",
      "37/37 [==============================] - 0s 334us/step\n",
      "37/37 [==============================] - 0s 331us/step\n",
      "37/37 [==============================] - 0s 336us/step\n"
     ]
    },
    {
     "name": "stderr",
     "output_type": "stream",
     "text": []
    },
    {
     "name": "stdout",
     "output_type": "stream",
     "text": [
      "19/19 [==============================] - 0s 421us/step\n",
      "19/19 [==============================] - 0s 362us/step\n",
      "19/19 [==============================] - 0s 383us/step\n",
      "19/19 [==============================] - 0s 392us/step\n"
     ]
    },
    {
     "name": "stderr",
     "output_type": "stream",
     "text": []
    },
    {
     "name": "stdout",
     "output_type": "stream",
     "text": [
      "22/22 [==============================] - 0s 352us/step\n",
      "22/22 [==============================] - 0s 392us/step\n",
      "22/22 [==============================] - 0s 376us/step\n",
      "22/22 [==============================] - 0s 380us/step\n"
     ]
    },
    {
     "name": "stderr",
     "output_type": "stream",
     "text": []
    },
    {
     "name": "stdout",
     "output_type": "stream",
     "text": [
      "65/65 [==============================] - 0s 347us/step\n",
      "65/65 [==============================] - 0s 335us/step\n",
      "65/65 [==============================] - 0s 319us/step\n",
      "65/65 [==============================] - 0s 327us/step\n"
     ]
    },
    {
     "name": "stderr",
     "output_type": "stream",
     "text": []
    },
    {
     "name": "stdout",
     "output_type": "stream",
     "text": [
      "42/42 [==============================] - 0s 335us/step\n",
      "42/42 [==============================] - 0s 354us/step\n",
      "42/42 [==============================] - 0s 328us/step\n",
      "42/42 [==============================] - 0s 329us/step\n"
     ]
    },
    {
     "name": "stderr",
     "output_type": "stream",
     "text": []
    },
    {
     "name": "stdout",
     "output_type": "stream",
     "text": [
      "54/54 [==============================] - 0s 400us/step\n",
      "54/54 [==============================] - 0s 328us/step\n",
      "54/54 [==============================] - 0s 339us/step\n",
      "54/54 [==============================] - 0s 332us/step\n"
     ]
    },
    {
     "name": "stderr",
     "output_type": "stream",
     "text": []
    },
    {
     "name": "stdout",
     "output_type": "stream",
     "text": [
      "33/33 [==============================] - 0s 348us/step\n",
      "33/33 [==============================] - 0s 658us/step\n",
      "33/33 [==============================] - 0s 337us/step\n",
      "33/33 [==============================] - 0s 336us/step\n"
     ]
    },
    {
     "name": "stderr",
     "output_type": "stream",
     "text": []
    },
    {
     "name": "stdout",
     "output_type": "stream",
     "text": [
      "71/71 [==============================] - 0s 353us/step\n",
      "71/71 [==============================] - 0s 316us/step\n",
      "71/71 [==============================] - 0s 312us/step\n",
      "71/71 [==============================] - 0s 320us/step\n"
     ]
    },
    {
     "name": "stderr",
     "output_type": "stream",
     "text": []
    },
    {
     "name": "stdout",
     "output_type": "stream",
     "text": [
      "68/68 [==============================] - 0s 352us/step\n",
      "68/68 [==============================] - 0s 328us/step\n",
      "68/68 [==============================] - 0s 313us/step\n",
      "68/68 [==============================] - 0s 323us/step\n"
     ]
    },
    {
     "name": "stderr",
     "output_type": "stream",
     "text": []
    },
    {
     "name": "stdout",
     "output_type": "stream",
     "text": [
      "65/65 [==============================] - 0s 352us/step\n",
      "65/65 [==============================] - 0s 317us/step\n",
      "65/65 [==============================] - 0s 325us/step\n",
      "65/65 [==============================] - 0s 332us/step\n"
     ]
    },
    {
     "name": "stderr",
     "output_type": "stream",
     "text": []
    },
    {
     "name": "stdout",
     "output_type": "stream",
     "text": [
      "51/51 [==============================] - 0s 357us/step\n",
      "51/51 [==============================] - 0s 334us/step\n",
      "51/51 [==============================] - 0s 334us/step\n",
      "51/51 [==============================] - 0s 326us/step\n"
     ]
    },
    {
     "name": "stderr",
     "output_type": "stream",
     "text": []
    },
    {
     "name": "stdout",
     "output_type": "stream",
     "text": [
      "62/62 [==============================] - 0s 342us/step\n",
      "62/62 [==============================] - 0s 333us/step\n",
      "62/62 [==============================] - 0s 330us/step\n",
      "62/62 [==============================] - 0s 315us/step\n"
     ]
    },
    {
     "name": "stderr",
     "output_type": "stream",
     "text": []
    },
    {
     "name": "stdout",
     "output_type": "stream",
     "text": [
      "29/29 [==============================] - 0s 370us/step\n",
      "29/29 [==============================] - 0s 346us/step\n",
      "29/29 [==============================] - 0s 354us/step\n",
      "29/29 [==============================] - 0s 332us/step\n"
     ]
    },
    {
     "name": "stderr",
     "output_type": "stream",
     "text": []
    },
    {
     "name": "stdout",
     "output_type": "stream",
     "text": [
      "36/36 [==============================] - 0s 345us/step\n",
      "36/36 [==============================] - 0s 336us/step\n",
      "36/36 [==============================] - 0s 338us/step\n",
      "36/36 [==============================] - 0s 334us/step\n"
     ]
    },
    {
     "name": "stderr",
     "output_type": "stream",
     "text": [
      "100%|██████████| 18/18 [00:05<00:00,  3.55it/s]\n",
      "100%|██████████| 18/18 [00:00<00:00, 258.96it/s]\n",
      "100%|██████████| 18/18 [00:00<00:00, 266.37it/s]\n"
     ]
    },
    {
     "name": "stdout",
     "output_type": "stream",
     "text": [
      "747/747 [==============================] - 0s 316us/step\n",
      "747/747 [==============================] - 0s 302us/step\n",
      "747/747 [==============================] - 0s 299us/step\n",
      "747/747 [==============================] - 0s 294us/step\n",
      "Saved fire probability xarray for 2023\n"
     ]
    },
    {
     "name": "stderr",
     "output_type": "stream",
     "text": []
    },
    {
     "name": "stdout",
     "output_type": "stream",
     "text": [
      "1/1 [==============================] - 0s 36ms/step\n",
      "1/1 [==============================] - 0s 10ms/step\n",
      "1/1 [==============================] - 0s 10ms/step\n",
      "1/1 [==============================] - 0s 10ms/step\n"
     ]
    },
    {
     "name": "stderr",
     "output_type": "stream",
     "text": []
    },
    {
     "name": "stdout",
     "output_type": "stream",
     "text": [
      "1/1 [==============================] - 0s 10ms/step\n",
      "1/1 [==============================] - 0s 11ms/step\n",
      "1/1 [==============================] - 0s 11ms/step\n",
      "1/1 [==============================] - 0s 15ms/step\n",
      "1/1 [==============================] - 0s 10ms/step\n"
     ]
    },
    {
     "name": "stderr",
     "output_type": "stream",
     "text": []
    },
    {
     "name": "stdout",
     "output_type": "stream",
     "text": [
      "1/1 [==============================] - 0s 11ms/step\n",
      "1/1 [==============================] - 0s 11ms/step\n",
      "1/1 [==============================] - 0s 10ms/step\n",
      "1/1 [==============================] - 0s 10ms/step\n"
     ]
    },
    {
     "name": "stderr",
     "output_type": "stream",
     "text": []
    },
    {
     "name": "stdout",
     "output_type": "stream",
     "text": [
      "1/1 [==============================] - 0s 10ms/step\n",
      "1/1 [==============================] - 0s 10ms/step\n",
      "1/1 [==============================] - 0s 10ms/step\n",
      "1/1 [==============================] - 0s 10ms/step\n"
     ]
    },
    {
     "name": "stderr",
     "output_type": "stream",
     "text": []
    },
    {
     "name": "stdout",
     "output_type": "stream",
     "text": [
      "1/1 [==============================] - 0s 10ms/step\n",
      "1/1 [==============================] - 0s 10ms/step\n",
      "1/1 [==============================] - 0s 10ms/step\n",
      "1/1 [==============================] - 0s 9ms/step\n"
     ]
    },
    {
     "name": "stderr",
     "output_type": "stream",
     "text": []
    },
    {
     "name": "stdout",
     "output_type": "stream",
     "text": [
      "1/1 [==============================] - 0s 10ms/step\n",
      "1/1 [==============================] - 0s 10ms/step\n",
      "1/1 [==============================] - 0s 10ms/step\n",
      "1/1 [==============================] - 0s 9ms/step\n",
      "1/1 [==============================] - 0s 9ms/step\n",
      "1/1 [==============================] - 0s 10ms/step\n",
      "1/1 [==============================] - 0s 10ms/step\n",
      "1/1 [==============================] - 0s 17ms/step\n"
     ]
    },
    {
     "name": "stderr",
     "output_type": "stream",
     "text": []
    },
    {
     "name": "stdout",
     "output_type": "stream",
     "text": [
      "1/1 [==============================] - 0s 11ms/step\n",
      "1/1 [==============================] - 0s 11ms/step\n",
      "1/1 [==============================] - 0s 11ms/step\n",
      "1/1 [==============================] - 0s 11ms/step\n",
      "1/1 [==============================] - 0s 10ms/step\n",
      "1/1 [==============================] - 0s 15ms/step\n"
     ]
    },
    {
     "name": "stderr",
     "output_type": "stream",
     "text": []
    },
    {
     "name": "stdout",
     "output_type": "stream",
     "text": [
      "1/1 [==============================] - 0s 10ms/step\n",
      "1/1 [==============================] - 0s 11ms/step\n",
      "1/1 [==============================] - 0s 11ms/step\n",
      "1/1 [==============================] - 0s 10ms/step\n",
      "1/1 [==============================] - 0s 9ms/step\n",
      "1/1 [==============================] - 0s 10ms/step\n",
      "1/1 [==============================] - 0s 9ms/step\n",
      "1/1 [==============================] - 0s 11ms/step\n"
     ]
    },
    {
     "name": "stderr",
     "output_type": "stream",
     "text": []
    },
    {
     "name": "stdout",
     "output_type": "stream",
     "text": [
      "1/1 [==============================] - 0s 10ms/step\n",
      "1/1 [==============================] - 0s 10ms/step\n",
      "1/1 [==============================] - 0s 11ms/step\n",
      "1/1 [==============================] - 0s 11ms/step\n",
      "1/1 [==============================] - 0s 10ms/step\n"
     ]
    },
    {
     "name": "stderr",
     "output_type": "stream",
     "text": [
      "100%|██████████| 18/18 [00:01<00:00, 11.13it/s]\n"
     ]
    },
    {
     "name": "stdout",
     "output_type": "stream",
     "text": [
      "1/1 [==============================] - 0s 40ms/step\n",
      "1/1 [==============================] - 0s 10ms/step\n",
      "1/1 [==============================] - 0s 11ms/step\n",
      "1/1 [==============================] - 0s 11ms/step\n"
     ]
    },
    {
     "name": "stderr",
     "output_type": "stream",
     "text": []
    },
    {
     "name": "stdout",
     "output_type": "stream",
     "text": [
      "1/1 [==============================] - 0s 10ms/step\n",
      "1/1 [==============================] - 0s 11ms/step\n",
      "1/1 [==============================] - 0s 11ms/step\n",
      "1/1 [==============================] - 0s 10ms/step\n",
      "1/1 [==============================] - 0s 10ms/step\n"
     ]
    },
    {
     "name": "stderr",
     "output_type": "stream",
     "text": []
    },
    {
     "name": "stdout",
     "output_type": "stream",
     "text": [
      "1/1 [==============================] - 0s 10ms/step\n",
      "1/1 [==============================] - 0s 11ms/step\n",
      "1/1 [==============================] - 0s 10ms/step\n",
      "1/1 [==============================] - 0s 11ms/step\n"
     ]
    },
    {
     "name": "stderr",
     "output_type": "stream",
     "text": []
    },
    {
     "name": "stdout",
     "output_type": "stream",
     "text": [
      "1/1 [==============================] - 0s 11ms/step\n",
      "1/1 [==============================] - 0s 10ms/step\n",
      "1/1 [==============================] - 0s 10ms/step\n",
      "1/1 [==============================] - 0s 9ms/step\n"
     ]
    },
    {
     "name": "stderr",
     "output_type": "stream",
     "text": []
    },
    {
     "name": "stdout",
     "output_type": "stream",
     "text": [
      "1/1 [==============================] - 0s 11ms/step\n",
      "1/1 [==============================] - 0s 10ms/step\n",
      "1/1 [==============================] - 0s 10ms/step\n",
      "1/1 [==============================] - 0s 9ms/step\n"
     ]
    },
    {
     "name": "stderr",
     "output_type": "stream",
     "text": []
    },
    {
     "name": "stdout",
     "output_type": "stream",
     "text": [
      "1/1 [==============================] - 0s 9ms/step\n",
      "1/1 [==============================] - 0s 10ms/step\n",
      "1/1 [==============================] - 0s 11ms/step\n",
      "1/1 [==============================] - 0s 9ms/step\n",
      "1/1 [==============================] - 0s 9ms/step\n",
      "1/1 [==============================] - 0s 9ms/step\n",
      "1/1 [==============================] - 0s 9ms/step\n",
      "1/1 [==============================] - 0s 10ms/step\n"
     ]
    },
    {
     "name": "stderr",
     "output_type": "stream",
     "text": []
    },
    {
     "name": "stdout",
     "output_type": "stream",
     "text": [
      "1/1 [==============================] - 0s 11ms/step\n",
      "1/1 [==============================] - 0s 11ms/step\n",
      "1/1 [==============================] - 0s 10ms/step\n",
      "1/1 [==============================] - 0s 10ms/step\n",
      "1/1 [==============================] - 0s 11ms/step\n",
      "1/1 [==============================] - 0s 10ms/step\n"
     ]
    },
    {
     "name": "stderr",
     "output_type": "stream",
     "text": []
    },
    {
     "name": "stdout",
     "output_type": "stream",
     "text": [
      "1/1 [==============================] - 0s 10ms/step\n",
      "1/1 [==============================] - 0s 20ms/step\n",
      "1/1 [==============================] - 0s 10ms/step\n",
      "1/1 [==============================] - 0s 9ms/step\n",
      "1/1 [==============================] - 0s 10ms/step\n",
      "1/1 [==============================] - 0s 10ms/step\n",
      "1/1 [==============================] - 0s 10ms/step\n",
      "1/1 [==============================] - 0s 11ms/step\n"
     ]
    },
    {
     "name": "stderr",
     "output_type": "stream",
     "text": []
    },
    {
     "name": "stdout",
     "output_type": "stream",
     "text": [
      "1/1 [==============================] - 0s 10ms/step\n",
      "1/1 [==============================] - 0s 10ms/step\n",
      "1/1 [==============================] - 0s 11ms/step\n",
      "1/1 [==============================] - 0s 10ms/step\n",
      "1/1 [==============================] - 0s 11ms/step\n"
     ]
    },
    {
     "name": "stderr",
     "output_type": "stream",
     "text": [
      "100%|██████████| 18/18 [00:01<00:00, 10.98it/s]\n",
      " 44%|████▍     | 4/9 [07:43<09:47, 117.46s/it]"
     ]
    }
   ],
   "source": [
    "fire_activity_ensemble_ssf(start_ens_no= 42, tot_ens_mems= 51, target_yr= 2023, firemon_pred_flag= 'dynamical_forecasts', pred_var_arr= ['Tmax', 'Prec', 'VPD', 'Tmin'], \\\n",
    "                                                                                                        freq_id= '08_07_23', seed= 654, size_id= '08_21_23', debug= False)"
   ]
  }
 ],
 "metadata": {
  "kernelspec": {
   "display_name": "base",
   "language": "python",
   "name": "python3"
  },
  "language_info": {
   "codemirror_mode": {
    "name": "ipython",
    "version": 3
   },
   "file_extension": ".py",
   "mimetype": "text/x-python",
   "name": "python",
   "nbconvert_exporter": "python",
   "pygments_lexer": "ipython3",
   "version": "3.10.2"
  },
  "orig_nbformat": 4
 },
 "nbformat": 4,
 "nbformat_minor": 2
}
