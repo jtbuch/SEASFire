{
 "cells": [
  {
   "cell_type": "markdown",
   "metadata": {},
   "source": [
    "# Ensemble fire probability, frequency, and size forecasts using SEAS5\n",
    "\n",
    "Author: Jatan Buch (v1, 230830) "
   ]
  },
  {
   "cell_type": "code",
   "execution_count": 1,
   "metadata": {},
   "outputs": [],
   "source": [
    "import warnings\n",
    "warnings.filterwarnings('ignore')\n",
    "\n",
    "import numpy as np\n",
    "import random\n",
    "from numpy.lib.stride_tricks import sliding_window_view\n",
    "from scipy import stats, interpolate\n",
    "from scipy.optimize import minimize\n",
    "from scipy.special import gamma\n",
    "from sklearn.linear_model import LinearRegression\n",
    "from math import factorial\n",
    "import itertools\n",
    "from copy import deepcopy\n",
    "\n",
    "import netCDF4 # module that reads in .nc files (built on top of HDF5 format)\n",
    "import pandas as pd\n",
    "import geopandas as gpd\n",
    "from geopandas.tools import sjoin\n",
    "import xarray\n",
    "import rioxarray\n",
    "\n",
    "from shapely.geometry import Point, mapping\n",
    "from shapely.geometry.polygon import Polygon\n",
    "from pyproj import CRS, Transformer # for transforming projected coordinates to elliptical coordinates\n",
    "import cartopy.crs as ccrs # for defining and transforming coordinate systems\n",
    "import cartopy.feature as cfeature # to add features to a cartopy map\n",
    "import cartopy.io.shapereader as shpreader\n",
    "\n",
    "#self-libraries\n",
    "from fire_utils import *\n",
    "from ml_utils import *\n",
    "from ssf_utils import *\n",
    "\n",
    "#modules for data processing and gradient boosting \n",
    "from ngboost import NGBRegressor, distns\n",
    "from sklearn.model_selection import train_test_split\n",
    "from sklearn.preprocessing import StandardScaler, MinMaxScaler, PolynomialFeatures, SplineTransformer\n",
    "from sklearn.metrics import mean_squared_error, r2_score\n",
    "import pickle # for saving and loading models\n",
    "from pathlib import Path\n",
    "import shap\n",
    "\n",
    "#modules for neural network\n",
    "import tensorflow as tf\n",
    "import tensorflow_probability as tfp\n",
    "tfd= tfp.distributions\n",
    "\n",
    "from datetime import datetime, timedelta\n",
    "from cftime import num2date, date2num, DatetimeGregorian\n",
    "from tqdm import tqdm\n",
    "\n",
    "import matplotlib.pyplot as plt\n",
    "import matplotlib.colors as colors\n",
    "from matplotlib.patches import Rectangle\n",
    "import matplotlib.patches as patches\n",
    "import matplotlib.path as mpltPath\n",
    "from plot_params_mpl39 import params\n",
    "import matplotlib.pylab as pylab\n",
    "import seaborn as sns\n",
    "pylab.rcParams.update(params)\n",
    "cols_default = plt.rcParams['axes.prop_cycle'].by_key()['color']\n",
    "\n",
    "%matplotlib inline\n",
    "%config IPython.matplotlib.backend = 'retina'\n",
    "%config InlineBackend.figure_format = 'retina'"
   ]
  },
  {
   "cell_type": "markdown",
   "metadata": {},
   "source": [
    "## Generating output files"
   ]
  },
  {
   "cell_type": "code",
   "execution_count": 3,
   "metadata": {},
   "outputs": [],
   "source": [
    "fire_activity_ensemble_ssf(tot_ens_mems= 51, target_yr= 2023, firemon_pred_flag= 'statistical_forecasts', pred_var_arr= ['Tmax', 'Prec', 'VPD', 'Tmin'], \\\n",
    "                                                                                                        freq_id= '08_07_23', seed= 654, size_id= '08_21_23', debug= False)"
   ]
  }
 ],
 "metadata": {
  "kernelspec": {
   "display_name": "base",
   "language": "python",
   "name": "python3"
  },
  "language_info": {
   "codemirror_mode": {
    "name": "ipython",
    "version": 3
   },
   "file_extension": ".py",
   "mimetype": "text/x-python",
   "name": "python",
   "nbconvert_exporter": "python",
   "pygments_lexer": "ipython3",
   "version": "3.9.13"
  },
  "orig_nbformat": 4
 },
 "nbformat": 4,
 "nbformat_minor": 2
}
